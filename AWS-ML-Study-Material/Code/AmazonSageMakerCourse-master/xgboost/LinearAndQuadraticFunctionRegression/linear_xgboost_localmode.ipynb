{
 "cells": [
  {
   "cell_type": "markdown",
   "metadata": {},
   "source": [
    "<h2>Simple Regression Dataset - Linear Regression vs XGBoost</h2>\n",
    "\n",
    "Model is trained with XGBoost installed in notebook instance\n",
    "\n",
    "In the later examples, we will train using SageMaker's XGBoost algorithm.\n",
    "\n",
    "Training on SageMaker takes several minutes (even for simple dataset).  \n",
    "\n",
    "If algorithm is supported on Python, we will try them locally on notebook instance\n",
    "\n",
    "This allows us to quickly learn an algorithm, understand tuning options and then finally train on SageMaker Cloud\n",
    "\n",
    "In this exercise, let's compare XGBoost and Linear Regression for simple regression dataset"
   ]
  },
  {
   "cell_type": "code",
   "execution_count": 1,
   "metadata": {},
   "outputs": [
    {
     "name": "stdout",
     "output_type": "stream",
     "text": [
      "Collecting xgboost==0.90\n",
      "  Downloading xgboost-0.90-py2.py3-none-win_amd64.whl (18.3 MB)\n",
      "Requirement already satisfied: scipy in c:\\users\\shyam\\anaconda3\\lib\\site-packages (from xgboost==0.90) (1.5.0)\n",
      "Requirement already satisfied: numpy in c:\\users\\shyam\\anaconda3\\lib\\site-packages (from xgboost==0.90) (1.18.5)\n",
      "Installing collected packages: xgboost\n",
      "Successfully installed xgboost-0.90\n"
     ]
    }
   ],
   "source": [
    "# Install xgboost in notebook instance.\n",
    "#### Command to install xgboost\n",
    "!pip install xgboost==0.90"
   ]
  },
  {
   "cell_type": "code",
   "execution_count": 2,
   "metadata": {},
   "outputs": [],
   "source": [
    "import sys\n",
    "import numpy as np\n",
    "import pandas as pd\n",
    "import matplotlib.pyplot as plt\n",
    "from sklearn.metrics import mean_squared_error, mean_absolute_error\n",
    "\n",
    "\n",
    "# XGBoost \n",
    "import xgboost as xgb\n",
    "# Linear Regression\n",
    "from sklearn.linear_model import LinearRegression"
   ]
  },
  {
   "cell_type": "code",
   "execution_count": 3,
   "metadata": {},
   "outputs": [],
   "source": [
    "# All data\n",
    "df = pd.read_csv('linear_all.csv')"
   ]
  },
  {
   "cell_type": "code",
   "execution_count": 4,
   "metadata": {},
   "outputs": [
    {
     "data": {
      "text/html": [
       "<div>\n",
       "<style scoped>\n",
       "    .dataframe tbody tr th:only-of-type {\n",
       "        vertical-align: middle;\n",
       "    }\n",
       "\n",
       "    .dataframe tbody tr th {\n",
       "        vertical-align: top;\n",
       "    }\n",
       "\n",
       "    .dataframe thead th {\n",
       "        text-align: right;\n",
       "    }\n",
       "</style>\n",
       "<table border=\"1\" class=\"dataframe\">\n",
       "  <thead>\n",
       "    <tr style=\"text-align: right;\">\n",
       "      <th></th>\n",
       "      <th>x</th>\n",
       "      <th>y</th>\n",
       "    </tr>\n",
       "  </thead>\n",
       "  <tbody>\n",
       "    <tr>\n",
       "      <th>0</th>\n",
       "      <td>0</td>\n",
       "      <td>12.412275</td>\n",
       "    </tr>\n",
       "    <tr>\n",
       "      <th>1</th>\n",
       "      <td>1</td>\n",
       "      <td>9.691298</td>\n",
       "    </tr>\n",
       "    <tr>\n",
       "      <th>2</th>\n",
       "      <td>2</td>\n",
       "      <td>42.307712</td>\n",
       "    </tr>\n",
       "    <tr>\n",
       "      <th>3</th>\n",
       "      <td>3</td>\n",
       "      <td>20.479079</td>\n",
       "    </tr>\n",
       "    <tr>\n",
       "      <th>4</th>\n",
       "      <td>4</td>\n",
       "      <td>29.096098</td>\n",
       "    </tr>\n",
       "  </tbody>\n",
       "</table>\n",
       "</div>"
      ],
      "text/plain": [
       "   x          y\n",
       "0  0  12.412275\n",
       "1  1   9.691298\n",
       "2  2  42.307712\n",
       "3  3  20.479079\n",
       "4  4  29.096098"
      ]
     },
     "execution_count": 4,
     "metadata": {},
     "output_type": "execute_result"
    }
   ],
   "source": [
    "df.head()"
   ]
  },
  {
   "cell_type": "code",
   "execution_count": 5,
   "metadata": {},
   "outputs": [
    {
     "data": {
      "image/png": "[encoded data removed]",
      "text/plain": [
       "<Figure size 432x288 with 1 Axes>"
      ]
     },
     "metadata": {
      "needs_background": "light"
     },
     "output_type": "display_data"
    }
   ],
   "source": [
    "plt.plot(df.x,df.y,label='Target')\n",
    "plt.grid(True)\n",
    "plt.xlabel('Input Feature')\n",
    "plt.ylabel('Target')\n",
    "plt.legend()\n",
    "plt.title('Simple Regression Dataset')\n",
    "plt.show()"
   ]
  },
  {
   "cell_type": "code",
   "execution_count": 6,
   "metadata": {},
   "outputs": [],
   "source": [
    "# Let's load Training and Validation Datasets\n",
    "train_file = 'linear_train.csv'\n",
    "validation_file = 'linear_validation.csv'\n",
    "\n",
    "# Specify the column names as the file does not have column header\n",
    "df_train = pd.read_csv(train_file,names=['y','x'])\n",
    "df_validation = pd.read_csv(validation_file,names=['y','x'])"
   ]
  },
  {
   "cell_type": "code",
   "execution_count": 7,
   "metadata": {},
   "outputs": [
    {
     "data": {
      "text/html": [
       "<div>\n",
       "<style scoped>\n",
       "    .dataframe tbody tr th:only-of-type {\n",
       "        vertical-align: middle;\n",
       "    }\n",
       "\n",
       "    .dataframe tbody tr th {\n",
       "        vertical-align: top;\n",
       "    }\n",
       "\n",
       "    .dataframe thead th {\n",
       "        text-align: right;\n",
       "    }\n",
       "</style>\n",
       "<table border=\"1\" class=\"dataframe\">\n",
       "  <thead>\n",
       "    <tr style=\"text-align: right;\">\n",
       "      <th></th>\n",
       "      <th>y</th>\n",
       "      <th>x</th>\n",
       "    </tr>\n",
       "  </thead>\n",
       "  <tbody>\n",
       "    <tr>\n",
       "      <th>0</th>\n",
       "      <td>425.457270</td>\n",
       "      <td>82</td>\n",
       "    </tr>\n",
       "    <tr>\n",
       "      <th>1</th>\n",
       "      <td>687.275162</td>\n",
       "      <td>134</td>\n",
       "    </tr>\n",
       "    <tr>\n",
       "      <th>2</th>\n",
       "      <td>554.643782</td>\n",
       "      <td>114</td>\n",
       "    </tr>\n",
       "    <tr>\n",
       "      <th>3</th>\n",
       "      <td>219.007382</td>\n",
       "      <td>42</td>\n",
       "    </tr>\n",
       "    <tr>\n",
       "      <th>4</th>\n",
       "      <td>560.269533</td>\n",
       "      <td>109</td>\n",
       "    </tr>\n",
       "  </tbody>\n",
       "</table>\n",
       "</div>"
      ],
      "text/plain": [
       "            y    x\n",
       "0  425.457270   82\n",
       "1  687.275162  134\n",
       "2  554.643782  114\n",
       "3  219.007382   42\n",
       "4  560.269533  109"
      ]
     },
     "execution_count": 7,
     "metadata": {},
     "output_type": "execute_result"
    }
   ],
   "source": [
    "df_train.head()"
   ]
  },
  {
   "cell_type": "code",
   "execution_count": 8,
   "metadata": {},
   "outputs": [
    {
     "data": {
      "text/html": [
       "<div>\n",
       "<style scoped>\n",
       "    .dataframe tbody tr th:only-of-type {\n",
       "        vertical-align: middle;\n",
       "    }\n",
       "\n",
       "    .dataframe tbody tr th {\n",
       "        vertical-align: top;\n",
       "    }\n",
       "\n",
       "    .dataframe thead th {\n",
       "        text-align: right;\n",
       "    }\n",
       "</style>\n",
       "<table border=\"1\" class=\"dataframe\">\n",
       "  <thead>\n",
       "    <tr style=\"text-align: right;\">\n",
       "      <th></th>\n",
       "      <th>y</th>\n",
       "      <th>x</th>\n",
       "    </tr>\n",
       "  </thead>\n",
       "  <tbody>\n",
       "    <tr>\n",
       "      <th>0</th>\n",
       "      <td>342.264067</td>\n",
       "      <td>67</td>\n",
       "    </tr>\n",
       "    <tr>\n",
       "      <th>1</th>\n",
       "      <td>60.951235</td>\n",
       "      <td>11</td>\n",
       "    </tr>\n",
       "    <tr>\n",
       "      <th>2</th>\n",
       "      <td>315.592889</td>\n",
       "      <td>62</td>\n",
       "    </tr>\n",
       "    <tr>\n",
       "      <th>3</th>\n",
       "      <td>700.097979</td>\n",
       "      <td>137</td>\n",
       "    </tr>\n",
       "    <tr>\n",
       "      <th>4</th>\n",
       "      <td>535.676139</td>\n",
       "      <td>108</td>\n",
       "    </tr>\n",
       "  </tbody>\n",
       "</table>\n",
       "</div>"
      ],
      "text/plain": [
       "            y    x\n",
       "0  342.264067   67\n",
       "1   60.951235   11\n",
       "2  315.592889   62\n",
       "3  700.097979  137\n",
       "4  535.676139  108"
      ]
     },
     "execution_count": 8,
     "metadata": {},
     "output_type": "execute_result"
    }
   ],
   "source": [
    "df_validation.head()"
   ]
  },
  {
   "cell_type": "code",
   "execution_count": 9,
   "metadata": {},
   "outputs": [
    {
     "data": {
      "image/png": "[encoded data removed]",
      "text/plain": [
       "<Figure size 432x288 with 1 Axes>"
      ]
     },
     "metadata": {
      "needs_background": "light"
     },
     "output_type": "display_data"
    }
   ],
   "source": [
    "plt.scatter(df_train.x,df_train.y,label='Training',marker='.')\n",
    "plt.scatter(df_validation.x,df_validation.y,label='Validation',marker='.')\n",
    "plt.grid(True)\n",
    "plt.xlabel('Input Feature')\n",
    "plt.ylabel('Target')\n",
    "plt.title('Simple Regression Dataset')\n",
    "plt.legend()\n",
    "plt.show()"
   ]
  },
  {
   "cell_type": "code",
   "execution_count": 10,
   "metadata": {},
   "outputs": [],
   "source": [
    "X_train = df_train.iloc[:,1:] # Features: 1st column onwards \n",
    "y_train = df_train.iloc[:,0].ravel() # Target: 0th column"
   ]
  },
  {
   "cell_type": "code",
   "execution_count": 12,
   "metadata": {},
   "outputs": [
    {
     "data": {
      "text/plain": [
       "array([425.4572695 , 687.27516208, 554.64378179, 219.00738189,\n",
       "       560.26953261, 315.60106774,   9.69129848, 339.22259116,\n",
       "       140.12421271, 438.18421133, 349.89060726, 664.87375239,\n",
       "       500.4625914 , 568.20807634, 138.59144243, 118.77492071,\n",
       "       608.78075451, 653.91007662, 104.43146845,  64.41171053,\n",
       "       378.38756145, 631.06324959, 244.63663741, 386.21364739,\n",
       "       440.39239691, 739.10579266, 366.3529809 , 483.54570009,\n",
       "       314.75876547, 663.92480835, 218.61532293, 266.10434768,\n",
       "       400.56580299,  46.07235388, 272.13398018, 251.99385654,\n",
       "       226.55438472, 699.39954066, 204.94146979, 571.3272155 ,\n",
       "       730.12283406, 360.89366404, 111.57331007, 249.39342979,\n",
       "       272.22486767, 634.31590469, 322.7217931 , 610.18848702,\n",
       "       615.37965612,  98.19392115, 737.06167551, 185.49217659,\n",
       "        28.90767595,  75.99820962, 148.03288843, 488.17879813,\n",
       "       286.92836015, 416.46919327, 502.93557661, 739.99048548,\n",
       "       303.64296081, 742.44328965, 532.98329215, 254.89226867,\n",
       "       109.28120817, 369.02925975, 206.34848574, 390.97881822,\n",
       "       741.77152812, 333.68132718, 708.73615529, 472.06597229,\n",
       "       620.50881872, 440.84812198, 467.20848639, 490.88237944,\n",
       "       717.6309548 , 396.72654621, 167.93805092, 514.70764452,\n",
       "        79.03471603, 137.96439827, 304.24806825, 245.91963383,\n",
       "       177.47691849, 655.4516941 , 466.07173658, 247.94440398,\n",
       "       592.57658072,  49.70130042, 602.83054682, 469.41507737,\n",
       "        61.35211471,  99.51391009, 558.12867354, 443.61351439,\n",
       "       445.88836772, 171.98932388, 151.94069558, 622.50733544,\n",
       "       392.01640067, 457.98244453,  20.4790787 , 294.5220477 ,\n",
       "       705.47152592])"
      ]
     },
     "execution_count": 12,
     "metadata": {},
     "output_type": "execute_result"
    }
   ],
   "source": [
    "y_train"
   ]
  },
  {
   "cell_type": "code",
   "execution_count": 13,
   "metadata": {},
   "outputs": [],
   "source": [
    "X_validation = df_validation.iloc[:,1:]\n",
    "y_validation = df_validation.iloc[:,0].ravel()"
   ]
  },
  {
   "cell_type": "code",
   "execution_count": 14,
   "metadata": {},
   "outputs": [],
   "source": [
    "# Create an instance of XGBoost Regressor\n",
    "# XGBoost Training Parameter Reference: \n",
    "#   https://github.com/dmlc/xgboost/blob/master/doc/parameter.md\n",
    "regressor = xgb.XGBRegressor()"
   ]
  },
  {
   "cell_type": "code",
   "execution_count": 15,
   "metadata": {},
   "outputs": [
    {
     "data": {
      "text/plain": [
       "XGBRegressor()"
      ]
     },
     "execution_count": 15,
     "metadata": {},
     "output_type": "execute_result"
    }
   ],
   "source": [
    "# Default Options\n",
    "regressor"
   ]
  },
  {
   "cell_type": "code",
   "execution_count": 16,
   "metadata": {},
   "outputs": [
    {
     "name": "stdout",
     "output_type": "stream",
     "text": [
      "[13:02:22] WARNING: C:/Jenkins/workspace/xgboost-win64_release_0.90/src/objective/regression_obj.cu:152: reg:linear is now deprecated in favor of reg:squarederror.\n",
      "[0]\tvalidation_0-rmse:395.746\tvalidation_1-rmse:395.663\n",
      "[1]\tvalidation_0-rmse:358.166\tvalidation_1-rmse:357.377\n",
      "[2]\tvalidation_0-rmse:324.17\tvalidation_1-rmse:321.445\n",
      "[3]\tvalidation_0-rmse:293.462\tvalidation_1-rmse:291.006\n",
      "[4]\tvalidation_0-rmse:265.684\tvalidation_1-rmse:263.81\n",
      "[5]\tvalidation_0-rmse:240.609\tvalidation_1-rmse:238.745\n",
      "[6]\tvalidation_0-rmse:217.932\tvalidation_1-rmse:216.379\n",
      "[7]\tvalidation_0-rmse:197.434\tvalidation_1-rmse:195.992\n",
      "[8]\tvalidation_0-rmse:178.851\tvalidation_1-rmse:176.704\n",
      "[9]\tvalidation_0-rmse:162.053\tvalidation_1-rmse:160.055\n",
      "[10]\tvalidation_0-rmse:146.851\tvalidation_1-rmse:144.898\n",
      "[11]\tvalidation_0-rmse:133.097\tvalidation_1-rmse:131.216\n",
      "[12]\tvalidation_0-rmse:120.653\tvalidation_1-rmse:118.977\n",
      "[13]\tvalidation_0-rmse:109.364\tvalidation_1-rmse:107.585\n",
      "[14]\tvalidation_0-rmse:99.1717\tvalidation_1-rmse:97.3403\n",
      "[15]\tvalidation_0-rmse:89.9295\tvalidation_1-rmse:87.8806\n",
      "[16]\tvalidation_0-rmse:81.5722\tvalidation_1-rmse:79.2859\n",
      "[17]\tvalidation_0-rmse:74.0005\tvalidation_1-rmse:71.7736\n",
      "[18]\tvalidation_0-rmse:67.1246\tvalidation_1-rmse:64.6969\n",
      "[19]\tvalidation_0-rmse:60.9022\tvalidation_1-rmse:58.3451\n",
      "[20]\tvalidation_0-rmse:55.2832\tvalidation_1-rmse:52.5909\n",
      "[21]\tvalidation_0-rmse:50.1914\tvalidation_1-rmse:47.3999\n",
      "[22]\tvalidation_0-rmse:45.5859\tvalidation_1-rmse:42.7159\n",
      "[23]\tvalidation_0-rmse:41.4194\tvalidation_1-rmse:38.5969\n",
      "[24]\tvalidation_0-rmse:37.6547\tvalidation_1-rmse:35.044\n",
      "[25]\tvalidation_0-rmse:34.2429\tvalidation_1-rmse:31.6396\n",
      "[26]\tvalidation_0-rmse:31.1512\tvalidation_1-rmse:28.6451\n",
      "[27]\tvalidation_0-rmse:28.3536\tvalidation_1-rmse:26.0027\n",
      "[28]\tvalidation_0-rmse:25.8189\tvalidation_1-rmse:23.6045\n",
      "[29]\tvalidation_0-rmse:23.527\tvalidation_1-rmse:21.6267\n",
      "[30]\tvalidation_0-rmse:21.4606\tvalidation_1-rmse:19.8776\n",
      "[31]\tvalidation_0-rmse:19.5852\tvalidation_1-rmse:18.397\n",
      "[32]\tvalidation_0-rmse:17.8947\tvalidation_1-rmse:17.1361\n",
      "[33]\tvalidation_0-rmse:16.3708\tvalidation_1-rmse:16.0871\n",
      "[34]\tvalidation_0-rmse:14.9905\tvalidation_1-rmse:15.2239\n",
      "[35]\tvalidation_0-rmse:13.749\tvalidation_1-rmse:14.4338\n",
      "[36]\tvalidation_0-rmse:12.6353\tvalidation_1-rmse:13.876\n",
      "[37]\tvalidation_0-rmse:11.631\tvalidation_1-rmse:13.4334\n",
      "[38]\tvalidation_0-rmse:10.7325\tvalidation_1-rmse:13.0921\n",
      "[39]\tvalidation_0-rmse:9.92643\tvalidation_1-rmse:12.7804\n",
      "[40]\tvalidation_0-rmse:9.20712\tvalidation_1-rmse:12.5988\n",
      "[41]\tvalidation_0-rmse:8.5686\tvalidation_1-rmse:12.502\n",
      "[42]\tvalidation_0-rmse:7.99915\tvalidation_1-rmse:12.4454\n",
      "[43]\tvalidation_0-rmse:7.49711\tvalidation_1-rmse:12.4335\n",
      "[44]\tvalidation_0-rmse:7.04799\tvalidation_1-rmse:12.4259\n",
      "[45]\tvalidation_0-rmse:6.65428\tvalidation_1-rmse:12.422\n",
      "[46]\tvalidation_0-rmse:6.31097\tvalidation_1-rmse:12.4565\n",
      "[47]\tvalidation_0-rmse:6.00777\tvalidation_1-rmse:12.4804\n",
      "[48]\tvalidation_0-rmse:5.74498\tvalidation_1-rmse:12.5132\n",
      "[49]\tvalidation_0-rmse:5.51695\tvalidation_1-rmse:12.5522\n",
      "[50]\tvalidation_0-rmse:5.31978\tvalidation_1-rmse:12.5951\n",
      "[51]\tvalidation_0-rmse:5.15004\tvalidation_1-rmse:12.644\n",
      "[52]\tvalidation_0-rmse:5.00469\tvalidation_1-rmse:12.6811\n",
      "[53]\tvalidation_0-rmse:4.8807\tvalidation_1-rmse:12.7369\n",
      "[54]\tvalidation_0-rmse:4.77421\tvalidation_1-rmse:12.7815\n",
      "[55]\tvalidation_0-rmse:4.68356\tvalidation_1-rmse:12.8175\n",
      "[56]\tvalidation_0-rmse:4.60167\tvalidation_1-rmse:12.8774\n",
      "[57]\tvalidation_0-rmse:4.53415\tvalidation_1-rmse:12.9244\n",
      "[58]\tvalidation_0-rmse:4.46693\tvalidation_1-rmse:12.9553\n",
      "[59]\tvalidation_0-rmse:4.41032\tvalidation_1-rmse:13.0209\n",
      "[60]\tvalidation_0-rmse:4.36299\tvalidation_1-rmse:13.0501\n",
      "[61]\tvalidation_0-rmse:4.32284\tvalidation_1-rmse:13.0794\n",
      "[62]\tvalidation_0-rmse:4.28275\tvalidation_1-rmse:13.0985\n",
      "[63]\tvalidation_0-rmse:4.24266\tvalidation_1-rmse:13.1359\n",
      "[64]\tvalidation_0-rmse:4.21495\tvalidation_1-rmse:13.1623\n",
      "[65]\tvalidation_0-rmse:4.19042\tvalidation_1-rmse:13.1822\n",
      "[66]\tvalidation_0-rmse:4.15971\tvalidation_1-rmse:13.2148\n",
      "[67]\tvalidation_0-rmse:4.11547\tvalidation_1-rmse:13.2255\n",
      "[68]\tvalidation_0-rmse:4.0877\tvalidation_1-rmse:13.2566\n",
      "[69]\tvalidation_0-rmse:4.0658\tvalidation_1-rmse:13.2973\n",
      "[70]\tvalidation_0-rmse:4.04193\tvalidation_1-rmse:13.3138\n",
      "[71]\tvalidation_0-rmse:4.02987\tvalidation_1-rmse:13.3245\n",
      "[72]\tvalidation_0-rmse:3.96973\tvalidation_1-rmse:13.3562\n",
      "[73]\tvalidation_0-rmse:3.96093\tvalidation_1-rmse:13.3703\n",
      "[74]\tvalidation_0-rmse:3.95119\tvalidation_1-rmse:13.3747\n",
      "[75]\tvalidation_0-rmse:3.93243\tvalidation_1-rmse:13.3863\n",
      "[76]\tvalidation_0-rmse:3.91565\tvalidation_1-rmse:13.3968\n",
      "[77]\tvalidation_0-rmse:3.8952\tvalidation_1-rmse:13.4202\n",
      "[78]\tvalidation_0-rmse:3.88017\tvalidation_1-rmse:13.4297\n",
      "[79]\tvalidation_0-rmse:3.82688\tvalidation_1-rmse:13.4572\n",
      "[80]\tvalidation_0-rmse:3.81336\tvalidation_1-rmse:13.4652\n",
      "[81]\tvalidation_0-rmse:3.80758\tvalidation_1-rmse:13.4758\n",
      "[82]\tvalidation_0-rmse:3.79247\tvalidation_1-rmse:13.4927\n",
      "[83]\tvalidation_0-rmse:3.78069\tvalidation_1-rmse:13.4989\n",
      "[84]\tvalidation_0-rmse:3.77441\tvalidation_1-rmse:13.5113\n",
      "[85]\tvalidation_0-rmse:3.75661\tvalidation_1-rmse:13.5313\n",
      "[86]\tvalidation_0-rmse:3.73673\tvalidation_1-rmse:13.557\n",
      "[87]\tvalidation_0-rmse:3.73376\tvalidation_1-rmse:13.558\n",
      "[88]\tvalidation_0-rmse:3.70361\tvalidation_1-rmse:13.5727\n",
      "[89]\tvalidation_0-rmse:3.69491\tvalidation_1-rmse:13.5833\n",
      "[90]\tvalidation_0-rmse:3.68322\tvalidation_1-rmse:13.6126\n",
      "[91]\tvalidation_0-rmse:3.63426\tvalidation_1-rmse:13.6367\n",
      "[92]\tvalidation_0-rmse:3.58993\tvalidation_1-rmse:13.6602\n",
      "[93]\tvalidation_0-rmse:3.58768\tvalidation_1-rmse:13.6639\n",
      "[94]\tvalidation_0-rmse:3.57901\tvalidation_1-rmse:13.6659\n",
      "[95]\tvalidation_0-rmse:3.5712\tvalidation_1-rmse:13.6678\n",
      "[96]\tvalidation_0-rmse:3.56877\tvalidation_1-rmse:13.6706\n",
      "[97]\tvalidation_0-rmse:3.56182\tvalidation_1-rmse:13.6723\n",
      "[98]\tvalidation_0-rmse:3.54583\tvalidation_1-rmse:13.6715\n",
      "[99]\tvalidation_0-rmse:3.50536\tvalidation_1-rmse:13.6938\n"
     ]
    },
    {
     "data": {
      "text/plain": [
       "XGBRegressor()"
      ]
     },
     "execution_count": 16,
     "metadata": {},
     "output_type": "execute_result"
    }
   ],
   "source": [
    "# Train the model\n",
    "# Provide Training Dataset and Validation Dataset\n",
    "# XGBoost reports training and validation error\n",
    "regressor.fit(X_train,y_train, eval_set = [(X_train, y_train), (X_validation, y_validation)])"
   ]
  },
  {
   "cell_type": "code",
   "execution_count": 17,
   "metadata": {},
   "outputs": [],
   "source": [
    "# Get the Training RMSE and Evaluation RMSE\n",
    "eval_result = regressor.evals_result()"
   ]
  },
  {
   "cell_type": "code",
   "execution_count": 18,
   "metadata": {},
   "outputs": [
    {
     "data": {
      "text/plain": [
       "{'validation_0': {'rmse': [395.746216,\n",
       "   358.165894,\n",
       "   324.169983,\n",
       "   293.462158,\n",
       "   265.683838,\n",
       "   240.609253,\n",
       "   217.932129,\n",
       "   197.433731,\n",
       "   178.851196,\n",
       "   162.053162,\n",
       "   146.850922,\n",
       "   133.096588,\n",
       "   120.652946,\n",
       "   109.364006,\n",
       "   99.171654,\n",
       "   89.929543,\n",
       "   81.572205,\n",
       "   74.000458,\n",
       "   67.124588,\n",
       "   60.902218,\n",
       "   55.283176,\n",
       "   50.191444,\n",
       "   45.585922,\n",
       "   41.41938,\n",
       "   37.654736,\n",
       "   34.242878,\n",
       "   31.151197,\n",
       "   28.353607,\n",
       "   25.818886,\n",
       "   23.526955,\n",
       "   21.460636,\n",
       "   19.585241,\n",
       "   17.894682,\n",
       "   16.370821,\n",
       "   14.990535,\n",
       "   13.748963,\n",
       "   12.635273,\n",
       "   11.631026,\n",
       "   10.732495,\n",
       "   9.926429,\n",
       "   9.207117,\n",
       "   8.5686,\n",
       "   7.999148,\n",
       "   7.49711,\n",
       "   7.047989,\n",
       "   6.654284,\n",
       "   6.310965,\n",
       "   6.007771,\n",
       "   5.744981,\n",
       "   5.516948,\n",
       "   5.319782,\n",
       "   5.150038,\n",
       "   5.004694,\n",
       "   4.880698,\n",
       "   4.77421,\n",
       "   4.683556,\n",
       "   4.601669,\n",
       "   4.534151,\n",
       "   4.466931,\n",
       "   4.410318,\n",
       "   4.362985,\n",
       "   4.322841,\n",
       "   4.282749,\n",
       "   4.242665,\n",
       "   4.21495,\n",
       "   4.190424,\n",
       "   4.159708,\n",
       "   4.115473,\n",
       "   4.087699,\n",
       "   4.065803,\n",
       "   4.041927,\n",
       "   4.029875,\n",
       "   3.969734,\n",
       "   3.960927,\n",
       "   3.951187,\n",
       "   3.932429,\n",
       "   3.915648,\n",
       "   3.895205,\n",
       "   3.88017,\n",
       "   3.826885,\n",
       "   3.81336,\n",
       "   3.807577,\n",
       "   3.792467,\n",
       "   3.780687,\n",
       "   3.774412,\n",
       "   3.756609,\n",
       "   3.736728,\n",
       "   3.733762,\n",
       "   3.703614,\n",
       "   3.694911,\n",
       "   3.68322,\n",
       "   3.634256,\n",
       "   3.589931,\n",
       "   3.587679,\n",
       "   3.57901,\n",
       "   3.571199,\n",
       "   3.568774,\n",
       "   3.561821,\n",
       "   3.545833,\n",
       "   3.505362]},\n",
       " 'validation_1': {'rmse': [395.663361,\n",
       "   357.37735,\n",
       "   321.445343,\n",
       "   291.005981,\n",
       "   263.810272,\n",
       "   238.744766,\n",
       "   216.378952,\n",
       "   195.992203,\n",
       "   176.704254,\n",
       "   160.054779,\n",
       "   144.897583,\n",
       "   131.215683,\n",
       "   118.976784,\n",
       "   107.584557,\n",
       "   97.340286,\n",
       "   87.880585,\n",
       "   79.285866,\n",
       "   71.773628,\n",
       "   64.696877,\n",
       "   58.345085,\n",
       "   52.590858,\n",
       "   47.399937,\n",
       "   42.715916,\n",
       "   38.59692,\n",
       "   35.043972,\n",
       "   31.639584,\n",
       "   28.645105,\n",
       "   26.002729,\n",
       "   23.604515,\n",
       "   21.626711,\n",
       "   19.877567,\n",
       "   18.396955,\n",
       "   17.136148,\n",
       "   16.087143,\n",
       "   15.223905,\n",
       "   14.433839,\n",
       "   13.876006,\n",
       "   13.433395,\n",
       "   13.092078,\n",
       "   12.780394,\n",
       "   12.59881,\n",
       "   12.502038,\n",
       "   12.44543,\n",
       "   12.433477,\n",
       "   12.425852,\n",
       "   12.421961,\n",
       "   12.456516,\n",
       "   12.480378,\n",
       "   12.513158,\n",
       "   12.55219,\n",
       "   12.595061,\n",
       "   12.644049,\n",
       "   12.681143,\n",
       "   12.736916,\n",
       "   12.781508,\n",
       "   12.817514,\n",
       "   12.877443,\n",
       "   12.924405,\n",
       "   12.955266,\n",
       "   13.020901,\n",
       "   13.050089,\n",
       "   13.079416,\n",
       "   13.098458,\n",
       "   13.135889,\n",
       "   13.162265,\n",
       "   13.182212,\n",
       "   13.214764,\n",
       "   13.225536,\n",
       "   13.256587,\n",
       "   13.297274,\n",
       "   13.313773,\n",
       "   13.324537,\n",
       "   13.356168,\n",
       "   13.370289,\n",
       "   13.374737,\n",
       "   13.386286,\n",
       "   13.396801,\n",
       "   13.420213,\n",
       "   13.429677,\n",
       "   13.457166,\n",
       "   13.465183,\n",
       "   13.475788,\n",
       "   13.492659,\n",
       "   13.498896,\n",
       "   13.511349,\n",
       "   13.531267,\n",
       "   13.557015,\n",
       "   13.558022,\n",
       "   13.572738,\n",
       "   13.583308,\n",
       "   13.612575,\n",
       "   13.636734,\n",
       "   13.660207,\n",
       "   13.663877,\n",
       "   13.665942,\n",
       "   13.667804,\n",
       "   13.670628,\n",
       "   13.672309,\n",
       "   13.671524,\n",
       "   13.693781]}}"
      ]
     },
     "execution_count": 18,
     "metadata": {},
     "output_type": "execute_result"
    }
   ],
   "source": [
    "eval_result"
   ]
  },
  {
   "cell_type": "code",
   "execution_count": 19,
   "metadata": {},
   "outputs": [],
   "source": [
    "training_rounds = range(len(eval_result['validation_0']['rmse']))"
   ]
  },
  {
   "cell_type": "code",
   "execution_count": 20,
   "metadata": {},
   "outputs": [
    {
     "name": "stdout",
     "output_type": "stream",
     "text": [
      "range(0, 100)\n"
     ]
    }
   ],
   "source": [
    "print(training_rounds)"
   ]
  },
  {
   "cell_type": "code",
   "execution_count": 21,
   "metadata": {},
   "outputs": [
    {
     "data": {
      "image/png": "[encoded data removed]",
      "text/plain": [
       "<Figure size 432x288 with 1 Axes>"
      ]
     },
     "metadata": {
      "needs_background": "light"
     },
     "output_type": "display_data"
    }
   ],
   "source": [
    "plt.scatter(x=training_rounds,y=eval_result['validation_0']['rmse'],label='Training Error')\n",
    "plt.scatter(x=training_rounds,y=eval_result['validation_1']['rmse'],label='Validation Error')\n",
    "plt.grid(True)\n",
    "plt.xlabel('Iterations')\n",
    "plt.ylabel('RMSE')\n",
    "plt.title('XGBoost Training Vs Validation Error')\n",
    "plt.legend()\n",
    "plt.show()"
   ]
  },
  {
   "cell_type": "code",
   "execution_count": 22,
   "metadata": {},
   "outputs": [
    {
     "data": {
      "image/png": "[encoded data removed]",
      "text/plain": [
       "<Figure size 432x288 with 1 Axes>"
      ]
     },
     "metadata": {
      "needs_background": "light"
     },
     "output_type": "display_data"
    }
   ],
   "source": [
    "xgb.plot_importance(regressor)\n",
    "plt.show()"
   ]
  },
  {
   "cell_type": "markdown",
   "metadata": {},
   "source": [
    "## Validation Dataset Compare Actual and Predicted"
   ]
  },
  {
   "cell_type": "code",
   "execution_count": 20,
   "metadata": {},
   "outputs": [],
   "source": [
    "result = regressor.predict(X_validation)"
   ]
  },
  {
   "cell_type": "code",
   "execution_count": 21,
   "metadata": {},
   "outputs": [
    {
     "data": {
      "text/plain": [
       "array([350.04523,  64.68917, 318.7728 , 706.8184 , 559.0537 ],\n",
       "      dtype=float32)"
      ]
     },
     "execution_count": 21,
     "metadata": {},
     "output_type": "execute_result"
    }
   ],
   "source": [
    "result[:5]"
   ]
  },
  {
   "cell_type": "code",
   "execution_count": 22,
   "metadata": {},
   "outputs": [
    {
     "data": {
      "image/png": "[encoded data removed]",
      "text/plain": [
       "<Figure size 432x288 with 1 Axes>"
      ]
     },
     "metadata": {},
     "output_type": "display_data"
    }
   ],
   "source": [
    "plt.title('XGBoost - Validation Dataset')\n",
    "plt.scatter(df_validation.x,df_validation.y,label='actual',marker='.')\n",
    "plt.scatter(df_validation.x,result,label='predicted',marker='.')\n",
    "plt.grid(True)\n",
    "plt.legend()\n",
    "plt.show()"
   ]
  },
  {
   "cell_type": "code",
   "execution_count": 23,
   "metadata": {},
   "outputs": [
    {
     "name": "stdout",
     "output_type": "stream",
     "text": [
      "XGBoost Algorithm Metrics\n",
      " Mean Squared Error: 187.52\n",
      " Root Mean Square Error: 13.69\n"
     ]
    }
   ],
   "source": [
    "# RMSE Metrics\n",
    "print('XGBoost Algorithm Metrics')\n",
    "mse = mean_squared_error(df_validation.y,result)\n",
    "print(\" Mean Squared Error: {0:.2f}\".format(mse))\n",
    "print(\" Root Mean Square Error: {0:.2f}\".format(mse**.5))"
   ]
  },
  {
   "cell_type": "code",
   "execution_count": 24,
   "metadata": {},
   "outputs": [
    {
     "data": {
      "image/png": "[encoded data removed]",
      "text/plain": [
       "<Figure size 432x288 with 1 Axes>"
      ]
     },
     "metadata": {},
     "output_type": "display_data"
    }
   ],
   "source": [
    "# Residual\n",
    "# Over prediction and Under Prediction needs to be balanced\n",
    "# Training Data Residuals\n",
    "residuals = df_validation.y - result\n",
    "plt.hist(residuals)\n",
    "plt.grid(True)\n",
    "plt.xlabel('Actual - Predicted')\n",
    "plt.ylabel('Count')\n",
    "plt.title('XGBoost Residual')\n",
    "plt.axvline(color='r')\n",
    "plt.show()"
   ]
  },
  {
   "cell_type": "code",
   "execution_count": 25,
   "metadata": {},
   "outputs": [
    {
     "name": "stdout",
     "output_type": "stream",
     "text": [
      " Under Estimation: 19\n",
      " Over  Estimation: 26\n"
     ]
    }
   ],
   "source": [
    "# Count number of values greater than zero and less than zero\n",
    "value_counts = (residuals > 0).value_counts(sort=False)\n",
    "\n",
    "print(' Under Estimation: {0}'.format(value_counts[True]))\n",
    "print(' Over  Estimation: {0}'.format(value_counts[False]))"
   ]
  },
  {
   "cell_type": "code",
   "execution_count": 26,
   "metadata": {},
   "outputs": [
    {
     "data": {
      "image/png": "[encoded data removed]",
      "text/plain": [
       "<Figure size 432x288 with 1 Axes>"
      ]
     },
     "metadata": {},
     "output_type": "display_data"
    }
   ],
   "source": [
    "# Plot for entire dataset\n",
    "plt.plot(df.x,df.y,label='Target')\n",
    "plt.plot(df.x,regressor.predict(df[['x']]) ,label='Predicted')\n",
    "plt.grid(True)\n",
    "plt.xlabel('Input Feature')\n",
    "plt.ylabel('Target')\n",
    "plt.legend()\n",
    "plt.title('XGBoost')\n",
    "plt.show()"
   ]
  },
  {
   "cell_type": "markdown",
   "metadata": {},
   "source": [
    "## Linear Regression Algorithm "
   ]
  },
  {
   "cell_type": "code",
   "execution_count": 27,
   "metadata": {},
   "outputs": [],
   "source": [
    "lin_regressor = LinearRegression()"
   ]
  },
  {
   "cell_type": "code",
   "execution_count": 28,
   "metadata": {},
   "outputs": [
    {
     "data": {
      "text/plain": [
       "LinearRegression(copy_X=True, fit_intercept=True, n_jobs=None,\n",
       "         normalize=False)"
      ]
     },
     "execution_count": 28,
     "metadata": {},
     "output_type": "execute_result"
    }
   ],
   "source": [
    "lin_regressor.fit(X_train,y_train)"
   ]
  },
  {
   "cell_type": "markdown",
   "metadata": {},
   "source": [
    "Compare Weights assigned by Linear Regression.\n",
    "\n",
    "Original Function: 5*x + 8 + some noise\n"
   ]
  },
  {
   "cell_type": "code",
   "execution_count": 29,
   "metadata": {},
   "outputs": [
    {
     "data": {
      "text/plain": [
       "array([4.99777227])"
      ]
     },
     "execution_count": 29,
     "metadata": {},
     "output_type": "execute_result"
    }
   ],
   "source": [
    "lin_regressor.coef_"
   ]
  },
  {
   "cell_type": "code",
   "execution_count": 30,
   "metadata": {},
   "outputs": [
    {
     "data": {
      "text/plain": [
       "8.683965388503339"
      ]
     },
     "execution_count": 30,
     "metadata": {},
     "output_type": "execute_result"
    }
   ],
   "source": [
    "lin_regressor.intercept_"
   ]
  },
  {
   "cell_type": "code",
   "execution_count": 31,
   "metadata": {},
   "outputs": [],
   "source": [
    "result = lin_regressor.predict(df_validation[['x']])"
   ]
  },
  {
   "cell_type": "code",
   "execution_count": 32,
   "metadata": {},
   "outputs": [
    {
     "data": {
      "image/png": "[encoded data removed]",
      "text/plain": [
       "<Figure size 432x288 with 1 Axes>"
      ]
     },
     "metadata": {},
     "output_type": "display_data"
    }
   ],
   "source": [
    "plt.title('LinearRegression - Validation Dataset')\n",
    "plt.scatter(df_validation.x,df_validation.y,label='actual',marker='.')\n",
    "plt.scatter(df_validation.x,result,label='predicted',marker='.')\n",
    "plt.grid(True)\n",
    "plt.legend()\n",
    "plt.show()"
   ]
  },
  {
   "cell_type": "code",
   "execution_count": 33,
   "metadata": {},
   "outputs": [
    {
     "name": "stdout",
     "output_type": "stream",
     "text": [
      "Linear Regression Metrics\n",
      " Mean Squared Error: 99.10\n",
      " Root Mean Square Error: 9.95\n"
     ]
    }
   ],
   "source": [
    "# RMSE Metrics\n",
    "print('Linear Regression Metrics')\n",
    "mse = mean_squared_error(df_validation.y,result)\n",
    "print(\" Mean Squared Error: {0:.2f}\".format(mse))\n",
    "print(\" Root Mean Square Error: {0:.2f}\".format(mse**.5))"
   ]
  },
  {
   "cell_type": "code",
   "execution_count": 34,
   "metadata": {},
   "outputs": [
    {
     "data": {
      "image/png": "[encoded data removed]",
      "text/plain": [
       "<Figure size 432x288 with 1 Axes>"
      ]
     },
     "metadata": {},
     "output_type": "display_data"
    }
   ],
   "source": [
    "# Residual\n",
    "# Over prediction and Under Prediction needs to be balanced\n",
    "# Training Data Residuals\n",
    "residuals = df_validation.y - result\n",
    "plt.hist(residuals)\n",
    "plt.grid(True)\n",
    "plt.xlabel('Actual - Predicted')\n",
    "plt.ylabel('Count')\n",
    "plt.title('Linear Regression Residual')\n",
    "plt.axvline(color='r')\n",
    "plt.show()"
   ]
  },
  {
   "cell_type": "code",
   "execution_count": 35,
   "metadata": {},
   "outputs": [
    {
     "name": "stdout",
     "output_type": "stream",
     "text": [
      " Under Estimation: 24\n",
      " Over  Estimation: 21\n"
     ]
    }
   ],
   "source": [
    "# Count number of values greater than zero and less than zero\n",
    "value_counts = (residuals > 0).value_counts(sort=False)\n",
    "\n",
    "print(' Under Estimation: {0}'.format(value_counts[True]))\n",
    "print(' Over  Estimation: {0}'.format(value_counts[False]))"
   ]
  },
  {
   "cell_type": "code",
   "execution_count": 36,
   "metadata": {},
   "outputs": [
    {
     "data": {
      "image/png": "[encoded data removed]",
      "text/plain": [
       "<Figure size 432x288 with 1 Axes>"
      ]
     },
     "metadata": {},
     "output_type": "display_data"
    }
   ],
   "source": [
    "# Plot for entire dataset\n",
    "plt.plot(df.x,df.y,label='Target')\n",
    "plt.plot(df.x,lin_regressor.predict(df[['x']]) ,label='Predicted')\n",
    "plt.grid(True)\n",
    "plt.xlabel('Input Feature')\n",
    "plt.ylabel('Target')\n",
    "plt.legend()\n",
    "plt.title('LinearRegression')\n",
    "plt.show()"
   ]
  },
  {
   "cell_type": "markdown",
   "metadata": {},
   "source": [
    "<h2>Input Features - Outside range used for training</h2>\n",
    "\n",
    "XGBoost Prediction has an upper and lower bound (applies to tree based algorithms)\n",
    "\n",
    "Linear Regression extrapolates"
   ]
  },
  {
   "cell_type": "code",
   "execution_count": 37,
   "metadata": {},
   "outputs": [],
   "source": [
    "# True Function\n",
    "def straight_line(x):\n",
    "    return 5*x + 8"
   ]
  },
  {
   "cell_type": "code",
   "execution_count": 38,
   "metadata": {},
   "outputs": [],
   "source": [
    "# X is outside range of training samples\n",
    "X = np.array([-100,-5,160,1000,5000])\n",
    "y = straight_line(X)\n",
    "\n",
    "df_tmp = pd.DataFrame({'x':X,'y':y})\n",
    "df_tmp['xgboost']=regressor.predict(df_tmp[['x']])\n",
    "df_tmp['linear']=lin_regressor.predict(df_tmp[['x']])"
   ]
  },
  {
   "cell_type": "code",
   "execution_count": 39,
   "metadata": {},
   "outputs": [
    {
     "data": {
      "text/html": [
       "<div>\n",
       "<style scoped>\n",
       "    .dataframe tbody tr th:only-of-type {\n",
       "        vertical-align: middle;\n",
       "    }\n",
       "\n",
       "    .dataframe tbody tr th {\n",
       "        vertical-align: top;\n",
       "    }\n",
       "\n",
       "    .dataframe thead th {\n",
       "        text-align: right;\n",
       "    }\n",
       "</style>\n",
       "<table border=\"1\" class=\"dataframe\">\n",
       "  <thead>\n",
       "    <tr style=\"text-align: right;\">\n",
       "      <th></th>\n",
       "      <th>x</th>\n",
       "      <th>y</th>\n",
       "      <th>xgboost</th>\n",
       "      <th>linear</th>\n",
       "    </tr>\n",
       "  </thead>\n",
       "  <tbody>\n",
       "    <tr>\n",
       "      <th>0</th>\n",
       "      <td>-100</td>\n",
       "      <td>-492</td>\n",
       "      <td>11.432866</td>\n",
       "      <td>-491.093262</td>\n",
       "    </tr>\n",
       "    <tr>\n",
       "      <th>1</th>\n",
       "      <td>-5</td>\n",
       "      <td>-17</td>\n",
       "      <td>11.432866</td>\n",
       "      <td>-16.304896</td>\n",
       "    </tr>\n",
       "    <tr>\n",
       "      <th>2</th>\n",
       "      <td>160</td>\n",
       "      <td>808</td>\n",
       "      <td>739.429871</td>\n",
       "      <td>808.327528</td>\n",
       "    </tr>\n",
       "    <tr>\n",
       "      <th>3</th>\n",
       "      <td>1000</td>\n",
       "      <td>5008</td>\n",
       "      <td>739.429871</td>\n",
       "      <td>5006.456235</td>\n",
       "    </tr>\n",
       "    <tr>\n",
       "      <th>4</th>\n",
       "      <td>5000</td>\n",
       "      <td>25008</td>\n",
       "      <td>739.429871</td>\n",
       "      <td>24997.545312</td>\n",
       "    </tr>\n",
       "  </tbody>\n",
       "</table>\n",
       "</div>"
      ],
      "text/plain": [
       "      x      y     xgboost        linear\n",
       "0  -100   -492   11.432866   -491.093262\n",
       "1    -5    -17   11.432866    -16.304896\n",
       "2   160    808  739.429871    808.327528\n",
       "3  1000   5008  739.429871   5006.456235\n",
       "4  5000  25008  739.429871  24997.545312"
      ]
     },
     "execution_count": 39,
     "metadata": {},
     "output_type": "execute_result"
    }
   ],
   "source": [
    "df_tmp"
   ]
  },
  {
   "cell_type": "code",
   "execution_count": 40,
   "metadata": {},
   "outputs": [
    {
     "data": {
      "image/png": "[encoded data removed]",
      "text/plain": [
       "<Figure size 432x288 with 1 Axes>"
      ]
     },
     "metadata": {},
     "output_type": "display_data"
    }
   ],
   "source": [
    "# XGBoost Predictions have an upper bound and lower bound\n",
    "# Linear Regression Extrapolates\n",
    "plt.scatter(df_tmp.x,df_tmp.y,label='Actual',color='r')\n",
    "plt.plot(df_tmp.x,df_tmp.linear,label='LinearRegression')\n",
    "plt.plot(df_tmp.x,df_tmp.xgboost,label='XGBoost')\n",
    "plt.legend()\n",
    "plt.xlabel('X')\n",
    "plt.ylabel('y')\n",
    "plt.title('Input Outside Range')\n",
    "plt.show()"
   ]
  },
  {
   "cell_type": "code",
   "execution_count": 41,
   "metadata": {},
   "outputs": [],
   "source": [
    "# X is inside range of training samples\n",
    "X = np.array([0,1,3,5,7,9,11,15,18,125])\n",
    "y = straight_line(X)\n",
    "\n",
    "df_tmp = pd.DataFrame({'x':X,'y':y})\n",
    "df_tmp['xgboost']=regressor.predict(df_tmp[['x']])\n",
    "df_tmp['linear']=lin_regressor.predict(df_tmp[['x']])"
   ]
  },
  {
   "cell_type": "code",
   "execution_count": 42,
   "metadata": {},
   "outputs": [
    {
     "data": {
      "text/html": [
       "<div>\n",
       "<style scoped>\n",
       "    .dataframe tbody tr th:only-of-type {\n",
       "        vertical-align: middle;\n",
       "    }\n",
       "\n",
       "    .dataframe tbody tr th {\n",
       "        vertical-align: top;\n",
       "    }\n",
       "\n",
       "    .dataframe thead th {\n",
       "        text-align: right;\n",
       "    }\n",
       "</style>\n",
       "<table border=\"1\" class=\"dataframe\">\n",
       "  <thead>\n",
       "    <tr style=\"text-align: right;\">\n",
       "      <th></th>\n",
       "      <th>x</th>\n",
       "      <th>y</th>\n",
       "      <th>xgboost</th>\n",
       "      <th>linear</th>\n",
       "    </tr>\n",
       "  </thead>\n",
       "  <tbody>\n",
       "    <tr>\n",
       "      <th>0</th>\n",
       "      <td>0</td>\n",
       "      <td>8</td>\n",
       "      <td>11.432866</td>\n",
       "      <td>8.683965</td>\n",
       "    </tr>\n",
       "    <tr>\n",
       "      <th>1</th>\n",
       "      <td>1</td>\n",
       "      <td>13</td>\n",
       "      <td>11.432866</td>\n",
       "      <td>13.681738</td>\n",
       "    </tr>\n",
       "    <tr>\n",
       "      <th>2</th>\n",
       "      <td>3</td>\n",
       "      <td>23</td>\n",
       "      <td>20.931784</td>\n",
       "      <td>23.677282</td>\n",
       "    </tr>\n",
       "    <tr>\n",
       "      <th>3</th>\n",
       "      <td>5</td>\n",
       "      <td>33</td>\n",
       "      <td>29.319981</td>\n",
       "      <td>33.672827</td>\n",
       "    </tr>\n",
       "    <tr>\n",
       "      <th>4</th>\n",
       "      <td>7</td>\n",
       "      <td>43</td>\n",
       "      <td>29.319981</td>\n",
       "      <td>43.668371</td>\n",
       "    </tr>\n",
       "    <tr>\n",
       "      <th>5</th>\n",
       "      <td>9</td>\n",
       "      <td>53</td>\n",
       "      <td>48.581470</td>\n",
       "      <td>53.663916</td>\n",
       "    </tr>\n",
       "    <tr>\n",
       "      <th>6</th>\n",
       "      <td>11</td>\n",
       "      <td>63</td>\n",
       "      <td>64.689171</td>\n",
       "      <td>63.659460</td>\n",
       "    </tr>\n",
       "    <tr>\n",
       "      <th>7</th>\n",
       "      <td>15</td>\n",
       "      <td>83</td>\n",
       "      <td>76.076408</td>\n",
       "      <td>83.650549</td>\n",
       "    </tr>\n",
       "    <tr>\n",
       "      <th>8</th>\n",
       "      <td>18</td>\n",
       "      <td>98</td>\n",
       "      <td>105.641113</td>\n",
       "      <td>98.643866</td>\n",
       "    </tr>\n",
       "    <tr>\n",
       "      <th>9</th>\n",
       "      <td>125</td>\n",
       "      <td>633</td>\n",
       "      <td>628.100586</td>\n",
       "      <td>633.405499</td>\n",
       "    </tr>\n",
       "  </tbody>\n",
       "</table>\n",
       "</div>"
      ],
      "text/plain": [
       "     x    y     xgboost      linear\n",
       "0    0    8   11.432866    8.683965\n",
       "1    1   13   11.432866   13.681738\n",
       "2    3   23   20.931784   23.677282\n",
       "3    5   33   29.319981   33.672827\n",
       "4    7   43   29.319981   43.668371\n",
       "5    9   53   48.581470   53.663916\n",
       "6   11   63   64.689171   63.659460\n",
       "7   15   83   76.076408   83.650549\n",
       "8   18   98  105.641113   98.643866\n",
       "9  125  633  628.100586  633.405499"
      ]
     },
     "execution_count": 42,
     "metadata": {},
     "output_type": "execute_result"
    }
   ],
   "source": [
    "df_tmp"
   ]
  },
  {
   "cell_type": "code",
   "execution_count": 43,
   "metadata": {},
   "outputs": [
    {
     "data": {
      "image/png": "[encoded data removed]",
      "text/plain": [
       "<Figure size 432x288 with 1 Axes>"
      ]
     },
     "metadata": {},
     "output_type": "display_data"
    }
   ],
   "source": [
    "# XGBoost Predictions have an upper bound and lower bound\n",
    "# Linear Regression Extrapolates\n",
    "plt.scatter(df_tmp.x,df_tmp.y,label='Actual',color='r')\n",
    "plt.plot(df_tmp.x,df_tmp.linear,label='LinearRegression')\n",
    "plt.plot(df_tmp.x,df_tmp.xgboost,label='XGBoost')\n",
    "plt.legend()\n",
    "plt.xlabel('X')\n",
    "plt.ylabel('y')\n",
    "plt.title('Input within range')\n",
    "plt.show()"
   ]
  },
  {
   "cell_type": "markdown",
   "metadata": {},
   "source": [
    "<h2>Summary</h2>"
   ]
  },
  {
   "cell_type": "markdown",
   "metadata": {},
   "source": [
    "1. Use sagemaker notebook as your own server on the cloud\n",
    "2. Install python packages\n",
    "3. Train directly on SageMaker Notebook (for small datasets, it takes few seconds).\n",
    "4. Once happy with algorithm and performance, you can train on sagemaker cloud (takes several minutes even for small datasets)\n",
    "5. Not all algorithms are available for installation (for example: AWS algorithms like DeepAR are available only in SageMaker)\n",
    "6. In this exercise, we installed XGBoost and compared performance of XGBoost model and Linear Regression"
   ]
  }
 ],
 "metadata": {
  "kernelspec": {
   "display_name": "Python 3",
   "language": "python",
   "name": "python3"
  },
  "language_info": {
   "codemirror_mode": {
    "name": "ipython",
    "version": 3
   },
   "file_extension": ".py",
   "mimetype": "text/x-python",
   "name": "python",
   "nbconvert_exporter": "python",
   "pygments_lexer": "ipython3",
   "version": "3.8.3"
  }
 },
 "nbformat": 4,
 "nbformat_minor": 2
}
