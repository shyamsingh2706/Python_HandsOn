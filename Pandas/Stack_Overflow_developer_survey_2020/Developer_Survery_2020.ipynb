{
 "cells": [
  {
   "cell_type": "code",
   "execution_count": 1,
   "metadata": {},
   "outputs": [],
   "source": [
    "import pandas as pd"
   ]
  },
  {
   "cell_type": "markdown",
   "metadata": {},
   "source": [
    "#### Read and Load Developer Exchange Survery results and Schema"
   ]
  },
  {
   "cell_type": "code",
   "execution_count": 2,
   "metadata": {},
   "outputs": [],
   "source": [
    "Survey_df = pd.read_csv(\"Downloads/developer_survey_2020/survey_results_public.csv\")\n",
    "Schema_df = pd.read_csv(\"Downloads/developer_survey_2020/survey_results_schema.csv\")"
   ]
  },
  {
   "cell_type": "code",
   "execution_count": 3,
   "metadata": {},
   "outputs": [
    {
     "data": {
      "text/html": [
       "<div>\n",
       "<style scoped>\n",
       "    .dataframe tbody tr th:only-of-type {\n",
       "        vertical-align: middle;\n",
       "    }\n",
       "\n",
       "    .dataframe tbody tr th {\n",
       "        vertical-align: top;\n",
       "    }\n",
       "\n",
       "    .dataframe thead th {\n",
       "        text-align: right;\n",
       "    }\n",
       "</style>\n",
       "<table border=\"1\" class=\"dataframe\">\n",
       "  <thead>\n",
       "    <tr style=\"text-align: right;\">\n",
       "      <th></th>\n",
       "      <th>QuestionText</th>\n",
       "    </tr>\n",
       "    <tr>\n",
       "      <th>Column</th>\n",
       "      <th></th>\n",
       "    </tr>\n",
       "  </thead>\n",
       "  <tbody>\n",
       "    <tr>\n",
       "      <th>Respondent</th>\n",
       "      <td>Randomized respondent ID number (not in order ...</td>\n",
       "    </tr>\n",
       "    <tr>\n",
       "      <th>MainBranch</th>\n",
       "      <td>Which of the following options best describes ...</td>\n",
       "    </tr>\n",
       "    <tr>\n",
       "      <th>Hobbyist</th>\n",
       "      <td>Do you code as a hobby?</td>\n",
       "    </tr>\n",
       "    <tr>\n",
       "      <th>Age</th>\n",
       "      <td>What is your age (in years)? If you prefer not...</td>\n",
       "    </tr>\n",
       "    <tr>\n",
       "      <th>Age1stCode</th>\n",
       "      <td>At what age did you write your first line of c...</td>\n",
       "    </tr>\n",
       "    <tr>\n",
       "      <th>...</th>\n",
       "      <td>...</td>\n",
       "    </tr>\n",
       "    <tr>\n",
       "      <th>WebframeWorkedWith</th>\n",
       "      <td>Which web frameworks have you done extensive d...</td>\n",
       "    </tr>\n",
       "    <tr>\n",
       "      <th>WelcomeChange</th>\n",
       "      <td>Compared to last year, how welcome do you feel...</td>\n",
       "    </tr>\n",
       "    <tr>\n",
       "      <th>WorkWeekHrs</th>\n",
       "      <td>On average, how many hours per week do you wor...</td>\n",
       "    </tr>\n",
       "    <tr>\n",
       "      <th>YearsCode</th>\n",
       "      <td>Including any education, how many years have y...</td>\n",
       "    </tr>\n",
       "    <tr>\n",
       "      <th>YearsCodePro</th>\n",
       "      <td>NOT including education, how many years have y...</td>\n",
       "    </tr>\n",
       "  </tbody>\n",
       "</table>\n",
       "<p>61 rows × 1 columns</p>\n",
       "</div>"
      ],
      "text/plain": [
       "                                                         QuestionText\n",
       "Column                                                               \n",
       "Respondent          Randomized respondent ID number (not in order ...\n",
       "MainBranch          Which of the following options best describes ...\n",
       "Hobbyist                                      Do you code as a hobby?\n",
       "Age                 What is your age (in years)? If you prefer not...\n",
       "Age1stCode          At what age did you write your first line of c...\n",
       "...                                                               ...\n",
       "WebframeWorkedWith  Which web frameworks have you done extensive d...\n",
       "WelcomeChange       Compared to last year, how welcome do you feel...\n",
       "WorkWeekHrs         On average, how many hours per week do you wor...\n",
       "YearsCode           Including any education, how many years have y...\n",
       "YearsCodePro        NOT including education, how many years have y...\n",
       "\n",
       "[61 rows x 1 columns]"
      ]
     },
     "execution_count": 3,
     "metadata": {},
     "output_type": "execute_result"
    }
   ],
   "source": [
    "Schema_df.set_index('Column',inplace=True) \n",
    "Schema_df"
   ]
  },
  {
   "cell_type": "markdown",
   "metadata": {},
   "source": [
    "#### Q1 : Visualize All Respondents based on Developer Type"
   ]
  },
  {
   "cell_type": "markdown",
   "metadata": {},
   "source": [
    "#### Part -1 :  Across all Regions "
   ]
  },
  {
   "cell_type": "markdown",
   "metadata": {},
   "source": [
    "#### Drop NaN value from Survery results"
   ]
  },
  {
   "cell_type": "code",
   "execution_count": 4,
   "metadata": {},
   "outputs": [
    {
     "data": {
      "text/plain": [
       "0        Developer, desktop or enterprise applications;...\n",
       "1                  Developer, full-stack;Developer, mobile\n",
       "5          Designer;Developer, front-end;Developer, mobile\n",
       "6        Developer, back-end;Developer, front-end;Devel...\n",
       "7        Developer, back-end;Developer, desktop or ente...\n",
       "                               ...                        \n",
       "64448    Developer, back-end;Developer, desktop or ente...\n",
       "64449                                    Developer, mobile\n",
       "64451        Data scientist or machine learning specialist\n",
       "64453    Data or business analyst;Developer, mobile;Sen...\n",
       "64456                                  Senior executive/VP\n",
       "Name: DevType, Length: 49370, dtype: object"
      ]
     },
     "execution_count": 4,
     "metadata": {},
     "output_type": "execute_result"
    }
   ],
   "source": [
    "filt = Survey_df['DevType'].notna()\n",
    "DevType_df = Survey_df.loc[filt]\n",
    "DevType_df['DevType']"
   ]
  },
  {
   "cell_type": "markdown",
   "metadata": {},
   "source": [
    "#### Split the Developer Type based on \";\" and count occurence of each"
   ]
  },
  {
   "cell_type": "code",
   "execution_count": 5,
   "metadata": {},
   "outputs": [],
   "source": [
    "from collections import Counter\n",
    "C = Counter()\n",
    "\n",
    "for J in DevType_df['DevType']:\n",
    "    C.update(J.split(';'))"
   ]
  },
  {
   "cell_type": "code",
   "execution_count": 6,
   "metadata": {},
   "outputs": [],
   "source": [
    "Language =[]\n",
    "Popularity =[]\n",
    "\n",
    "for J in C.most_common():\n",
    "   Language.append(J[0])\n",
    "   Popularity.append(J[1])\n",
    "\n",
    "Language.reverse()\n",
    "Popularity.reverse() "
   ]
  },
  {
   "cell_type": "code",
   "execution_count": 7,
   "metadata": {},
   "outputs": [
    {
     "data": {
      "image/png": "[encoded data removed]",
      "text/plain": [
       "<Figure size 432x288 with 1 Axes>"
      ]
     },
     "metadata": {
      "needs_background": "light"
     },
     "output_type": "display_data"
    }
   ],
   "source": [
    "import matplotlib.pyplot as plt\n",
    "\n",
    "fig, ax = plt.subplots()\n",
    "ax = plt.barh(Language,Popularity)\n",
    "plt.xlabel(\"Count of developers\") \n",
    "plt.title(\"Most Popular Skill ( All Regions)\" , fontsize = 20)\n",
    "\n",
    "total = len(DevType_df['DevType'])\n",
    "\n",
    "for p in ax.patches:\n",
    "        percentage = '{:.1f}%'.format(100 * p.get_width()/total)\n",
    "        x = p.get_x() + p.get_width() + 0.02\n",
    "        y = p.get_y() + p.get_height()/2 \n",
    "        plt.text(x, y,percentage, \n",
    "             fontsize = 8, fontweight ='bold', \n",
    "             color ='grey')\n",
    "        \n",
    "plt.show()"
   ]
  },
  {
   "cell_type": "markdown",
   "metadata": {},
   "source": [
    "#### Q1 Part -2 : For USA ( Unweighted )"
   ]
  },
  {
   "cell_type": "code",
   "execution_count": 8,
   "metadata": {},
   "outputs": [],
   "source": [
    "filt = (Survey_df['Country']  == 'United States')  \n",
    "DevType_df_USA = DevType_df.loc[filt]\n",
    "DevType_df_USA\n",
    "\n",
    "from collections import Counter\n",
    "C = Counter()\n",
    "\n"
   ]
  },
  {
   "cell_type": "code",
   "execution_count": 9,
   "metadata": {},
   "outputs": [],
   "source": [
    "for J in DevType_df_USA['DevType']:\n",
    "    C.update(J.split(';'))\n",
    "    \n",
    "Language =[]\n",
    "Popularity =[]\n",
    "for J in C.most_common():\n",
    "    Language.append(J[0])\n",
    "    Popularity.append(J[1])\n",
    "    \n",
    "Language.reverse()\n",
    "Popularity.reverse()"
   ]
  },
  {
   "cell_type": "code",
   "execution_count": 10,
   "metadata": {},
   "outputs": [
    {
     "data": {
      "image/png": "[encoded data removed]",
      "text/plain": [
       "<Figure size 432x288 with 1 Axes>"
      ]
     },
     "metadata": {
      "needs_background": "light"
     },
     "output_type": "display_data"
    }
   ],
   "source": [
    "import matplotlib.pyplot as plt\n",
    "\n",
    "fig, ax = plt.subplots()\n",
    "ax = plt.barh(Language,Popularity)\n",
    "plt.xlabel(\"Count of developers\") \n",
    "plt.title(\"Most Popular Skill ( USA Regions)\" , fontsize = 20)\n",
    "\n",
    "total = len(DevType_df_USA['DevType'])\n",
    "\n",
    "for p in ax.patches:\n",
    "        percentage = '{:.1f}%'.format(100 * p.get_width()/total)\n",
    "        x = p.get_x() + p.get_width() + 0.02\n",
    "        y = p.get_y() + p.get_height()/2 \n",
    "        plt.text(x, y,percentage, \n",
    "             fontsize = 8, fontweight ='bold', \n",
    "             color ='grey')\n",
    "        \n",
    "plt.show()"
   ]
  },
  {
   "cell_type": "markdown",
   "metadata": {},
   "source": [
    "#### Q2 : Visualize, how many respondants has Coding as a Hobby"
   ]
  },
  {
   "cell_type": "code",
   "execution_count": 11,
   "metadata": {},
   "outputs": [
    {
     "data": {
      "text/plain": [
       "Hobbyist\n",
       "No     14028\n",
       "Yes    50388\n",
       "Name: Respondent, dtype: int64"
      ]
     },
     "execution_count": 11,
     "metadata": {},
     "output_type": "execute_result"
    }
   ],
   "source": [
    "Hobbyist_df = Survey_df.groupby('Hobbyist').count()\n",
    "Hobbyist_df['Respondent']"
   ]
  },
  {
   "cell_type": "code",
   "execution_count": 12,
   "metadata": {},
   "outputs": [
    {
     "data": {
      "image/png": "[encoded data removed]",
      "text/plain": [
       "<Figure size 432x288 with 1 Axes>"
      ]
     },
     "metadata": {
      "needs_background": "light"
     },
     "output_type": "display_data"
    }
   ],
   "source": [
    "import matplotlib.pyplot as plt\n",
    "\n",
    "width = .2\n",
    "fig , ax = plt.subplots()\n",
    "\n",
    "ax.bar(Hobbyist_df.index,Hobbyist_df['Respondent'],width)\n",
    "ax.set_ylabel(\"Number of Respondants\") \n",
    "plt.title (\"Coding as a Hobby ( All Regions)\" , fontsize = 10)\n",
    "\n",
    "total =  Hobbyist_df['Respondent'].sum()\n",
    "\n",
    "for p in ax.patches:\n",
    "    width = p.get_width()\n",
    "    height = p.get_height()\n",
    "    x, y = p.get_xy()  \n",
    "    ax.annotate('{:.1f}%'.format(100 * height/total) , (x + width/2, y + height*1.02), ha='center') \n",
    "    \n",
    "plt.show()"
   ]
  },
  {
   "cell_type": "markdown",
   "metadata": {},
   "source": [
    "#### Q3 : Visualize \"Years of code \" based on 5 years of bucketing"
   ]
  },
  {
   "cell_type": "markdown",
   "metadata": {},
   "source": [
    "#### Part 1 : For all Respondent"
   ]
  },
  {
   "cell_type": "markdown",
   "metadata": {},
   "source": [
    "#### Fetch the unique value of YearsCode attribute by droping NaN values"
   ]
  },
  {
   "cell_type": "code",
   "execution_count": 13,
   "metadata": {},
   "outputs": [
    {
     "data": {
      "text/plain": [
       "array(['36', '7', '4', '15', '6', '17', '8', '10', '35', '5', '37', '19',\n",
       "       '9', '22', '30', '23', '20', '2', 'Less than 1 year', '3', '13',\n",
       "       '25', '16', '43', '11', '38', '33', '24', '21', '12', '40', '27',\n",
       "       '50', '46', '14', '18', '28', '32', '44', '26', '42', '31', '34',\n",
       "       '29', '1', '39', '41', '45', 'More than 50 years', '47', '49',\n",
       "       '48'], dtype=object)"
      ]
     },
     "execution_count": 13,
     "metadata": {},
     "output_type": "execute_result"
    }
   ],
   "source": [
    "filt = Survey_df['YearsCode'].notna()\n",
    "Lrn2cd_df = Survey_df.loc[filt]\n",
    "Lrn2cd_df['YearsCode'].unique()"
   ]
  },
  {
   "cell_type": "markdown",
   "metadata": {},
   "source": [
    "#### Create a new attribute YearsCodeNew as Integer type by raplacing text values to respective Integer values functionally."
   ]
  },
  {
   "cell_type": "code",
   "execution_count": 14,
   "metadata": {},
   "outputs": [
    {
     "name": "stderr",
     "output_type": "stream",
     "text": [
      "<ipython-input-14-d6553bef811e>:1: SettingWithCopyWarning: \n",
      "A value is trying to be set on a copy of a slice from a DataFrame.\n",
      "Try using .loc[row_indexer,col_indexer] = value instead\n",
      "\n",
      "See the caveats in the documentation: https://pandas.pydata.org/pandas-docs/stable/user_guide/indexing.html#returning-a-view-versus-a-copy\n",
      "  Lrn2cd_df['YearsCodeNew'] = Lrn2cd_df['YearsCode'].replace({'More than 50 years': '51' , 'Less than 1 year': '1'})\n",
      "<ipython-input-14-d6553bef811e>:2: SettingWithCopyWarning: \n",
      "A value is trying to be set on a copy of a slice from a DataFrame.\n",
      "Try using .loc[row_indexer,col_indexer] = value instead\n",
      "\n",
      "See the caveats in the documentation: https://pandas.pydata.org/pandas-docs/stable/user_guide/indexing.html#returning-a-view-versus-a-copy\n",
      "  Lrn2cd_df['YearsCodeNew'] = Lrn2cd_df['YearsCodeNew'].astype(int)\n"
     ]
    },
    {
     "data": {
      "text/plain": [
       "array([36,  7,  4, 15,  6, 17,  8, 10, 35,  5, 37, 19,  9, 22, 30, 23, 20,\n",
       "        2,  1,  3, 13, 25, 16, 43, 11, 38, 33, 24, 21, 12, 40, 27, 50, 46,\n",
       "       14, 18, 28, 32, 44, 26, 42, 31, 34, 29, 39, 41, 45, 51, 47, 49, 48])"
      ]
     },
     "execution_count": 14,
     "metadata": {},
     "output_type": "execute_result"
    }
   ],
   "source": [
    "Lrn2cd_df['YearsCodeNew'] = Lrn2cd_df['YearsCode'].replace({'More than 50 years': '51' , 'Less than 1 year': '1'})\n",
    "Lrn2cd_df['YearsCodeNew'] = Lrn2cd_df['YearsCodeNew'].astype(int)\n",
    "Lrn2cd_df['YearsCodeNew'].unique()"
   ]
  },
  {
   "cell_type": "markdown",
   "metadata": {},
   "source": [
    "#### Define a function to create Bucket based on YearsCode attribute"
   ]
  },
  {
   "cell_type": "code",
   "execution_count": 15,
   "metadata": {},
   "outputs": [],
   "source": [
    "def year_of_coding(YearsCode): \n",
    "    \n",
    "    YearsCodebin = ''\n",
    "    \n",
    "    if (( YearsCode < 5 )):\n",
    "        YearsCodebin = 'Less Than 5 years'\n",
    "    elif (( YearsCode >= 5 and YearsCode < 10 )):\n",
    "        YearsCodebin = '5 to 9 years'\n",
    "    elif (( YearsCode >= 10 and YearsCode < 15 )):\n",
    "        YearsCodebin = '10 to 14 years'\n",
    "    elif (( YearsCode >= 15 and YearsCode < 20 )):\n",
    "        YearsCodebin = '15 to 19 years'\n",
    "    elif (( YearsCode >= 20 and YearsCode < 25 )):\n",
    "        YearsCodebin = '20 to 24 years'\n",
    "    elif (( YearsCode >= 25 and YearsCode < 30 )):\n",
    "        YearsCodebin = '25 to 29 years'\n",
    "    elif (( YearsCode >= 30 and YearsCode < 35 )):\n",
    "        YearsCodebin = '30 to 34 years'\n",
    "    elif (( YearsCode >= 35 and YearsCode < 40 )):\n",
    "        YearsCodebin = '35 to 39 years'\n",
    "    elif (( YearsCode >= 40 and YearsCode < 45 )):\n",
    "        YearsCodebin = '40 to 44 years'\n",
    "    elif (( YearsCode >= 45 and YearsCode < 50 )):\n",
    "        YearsCodebin = '45 to 49 years'\n",
    "    elif (( YearsCode >= 50)):\n",
    "        YearsCodebin = '50 years or More'\n",
    "    \n",
    "    return YearsCodebin"
   ]
  },
  {
   "cell_type": "markdown",
   "metadata": {},
   "source": [
    "#### Create a new attribue that contains the bucketing of yearsCode "
   ]
  },
  {
   "cell_type": "code",
   "execution_count": 16,
   "metadata": {},
   "outputs": [
    {
     "name": "stderr",
     "output_type": "stream",
     "text": [
      "<ipython-input-16-1a0e4c12db31>:1: SettingWithCopyWarning: \n",
      "A value is trying to be set on a copy of a slice from a DataFrame.\n",
      "Try using .loc[row_indexer,col_indexer] = value instead\n",
      "\n",
      "See the caveats in the documentation: https://pandas.pydata.org/pandas-docs/stable/user_guide/indexing.html#returning-a-view-versus-a-copy\n",
      "  Lrn2cd_df['YearsCodeBin'] = Lrn2cd_df['YearsCodeNew'].apply(year_of_coding)\n"
     ]
    },
    {
     "data": {
      "text/plain": [
       "array(['35 to 39 years', '5 to 9 years', 'Less Than 5 years',\n",
       "       '15 to 19 years', '10 to 14 years', '20 to 24 years',\n",
       "       '30 to 34 years', '25 to 29 years', '40 to 44 years',\n",
       "       '50 years or More', '45 to 49 years'], dtype=object)"
      ]
     },
     "execution_count": 16,
     "metadata": {},
     "output_type": "execute_result"
    }
   ],
   "source": [
    "Lrn2cd_df['YearsCodeBin'] = Lrn2cd_df['YearsCodeNew'].apply(year_of_coding)\n",
    "Lrn2cd_df['YearsCodeBin'].unique()"
   ]
  },
  {
   "cell_type": "markdown",
   "metadata": {},
   "source": [
    "#### Aggregate on newly created Bucket column and display the graph"
   ]
  },
  {
   "cell_type": "code",
   "execution_count": 17,
   "metadata": {
    "scrolled": true
   },
   "outputs": [
    {
     "data": {
      "text/plain": [
       "YearsCodeBin\n",
       "10 to 14 years       11601\n",
       "15 to 19 years        6592\n",
       "20 to 24 years        4925\n",
       "25 to 29 years        2543\n",
       "30 to 34 years        2043\n",
       "35 to 39 years        1547\n",
       "40 to 44 years         922\n",
       "45 to 49 years         235\n",
       "5 to 9 years         17311\n",
       "50 years or More       185\n",
       "Less Than 5 years     9780\n",
       "Name: Respondent, dtype: int64"
      ]
     },
     "execution_count": 17,
     "metadata": {},
     "output_type": "execute_result"
    }
   ],
   "source": [
    "bins = ['Less Than 5 years', '5 to 9 years', '10 to 14 years', '15 to 19 years', '20 to 24 years', '25 to 29 years', '30 to 34 years','35 to 39 years','40 to 44 years','45 to 49 years','50 years or More']\n",
    "Lrn2cd_df_final = Lrn2cd_df.groupby('YearsCodeBin').count()['Respondent']\n",
    "Lrn2cd_df_final"
   ]
  },
  {
   "cell_type": "markdown",
   "metadata": {},
   "source": [
    "#### Sort the dataframe in right order for better visualization "
   ]
  },
  {
   "cell_type": "code",
   "execution_count": 18,
   "metadata": {},
   "outputs": [
    {
     "data": {
      "text/plain": [
       "YearsCodeBin\n",
       "Less Than 5 years     9780\n",
       "5 to 9 years         17311\n",
       "10 to 14 years       11601\n",
       "15 to 19 years        6592\n",
       "20 to 24 years        4925\n",
       "25 to 29 years        2543\n",
       "30 to 34 years        2043\n",
       "35 to 39 years        1547\n",
       "40 to 44 years         922\n",
       "45 to 49 years         235\n",
       "50 years or More       185\n",
       "Name: Respondent, dtype: int64"
      ]
     },
     "execution_count": 18,
     "metadata": {},
     "output_type": "execute_result"
    }
   ],
   "source": [
    "Lrn2cd_df_final_sort = Lrn2cd_df_final.loc[['Less Than 5 years', '5 to 9 years', '10 to 14 years', '15 to 19 years', '20 to 24 years', '25 to 29 years', '30 to 34 years','35 to 39 years','40 to 44 years','45 to 49 years','50 years or More']]\n",
    "Lrn2cd_df_final_sort"
   ]
  },
  {
   "cell_type": "markdown",
   "metadata": {},
   "source": [
    "#### Plot the graph"
   ]
  },
  {
   "cell_type": "code",
   "execution_count": 19,
   "metadata": {},
   "outputs": [
    {
     "data": {
      "image/png": "[encoded data removed]",
      "text/plain": [
       "<Figure size 432x288 with 1 Axes>"
      ]
     },
     "metadata": {
      "needs_background": "light"
     },
     "output_type": "display_data"
    }
   ],
   "source": [
    "import matplotlib.pyplot as plt\n",
    "\n",
    "width = .4\n",
    "fig , ax = plt.subplots()\n",
    "\n",
    "  \n",
    "ax.bar(Lrn2cd_df_final_sort.index, Lrn2cd_df_final_sort.iloc[0:] ,width)\n",
    "ax.set_ylabel(\"Number of Respondants\") \n",
    "ax.set_xticklabels(Lrn2cd_df_final_sort.index,rotation='vertical') \n",
    "plt.title ( \"Years since learning to Code\")\n",
    "\n",
    "total =  Lrn2cd_df_final_sort.sum()\n",
    "\n",
    "for p in ax.patches:\n",
    "    width = p.get_width()\n",
    "    height = p.get_height()\n",
    "    x, y = p.get_xy()  \n",
    "    ax.annotate('{:.1f}%'.format(100 * height/total) , (x + width/2, y + height*1.02), ha='center') \n",
    "\n",
    "plt.tight_layout()\n",
    "plt.show()"
   ]
  },
  {
   "cell_type": "markdown",
   "metadata": {},
   "source": [
    "#### Part 2 : only for Professional Developers"
   ]
  },
  {
   "cell_type": "markdown",
   "metadata": {},
   "source": [
    "#### Find out Right filters to distinguish Professional Developers"
   ]
  },
  {
   "cell_type": "code",
   "execution_count": 20,
   "metadata": {},
   "outputs": [
    {
     "data": {
      "text/plain": [
       "array(['I am a developer by profession', 'I code primarily as a hobby',\n",
       "       'I used to be a developer by profession, but no longer am',\n",
       "       'I am not primarily a developer, but I write code sometimes as part of my work',\n",
       "       'I am a student who is learning to code', nan], dtype=object)"
      ]
     },
     "execution_count": 20,
     "metadata": {},
     "output_type": "execute_result"
    }
   ],
   "source": [
    "Lrn2cd_df['MainBranch'].unique()"
   ]
  },
  {
   "cell_type": "markdown",
   "metadata": {},
   "source": [
    "#### Create DF for Professional Develoeprs only"
   ]
  },
  {
   "cell_type": "code",
   "execution_count": 21,
   "metadata": {},
   "outputs": [],
   "source": [
    "prof = ['I am a developer by profession','I am not primarily a developer, but I write code sometimes as part of my work']\n",
    "filt = Lrn2cd_df['MainBranch'].isin(prof)\n",
    "Lrn2cd_df_prof = Lrn2cd_df.loc[filt]"
   ]
  },
  {
   "cell_type": "markdown",
   "metadata": {},
   "source": [
    "#### Aggregate and Sort profession developer DF based on \"YearsCodeBin\""
   ]
  },
  {
   "cell_type": "code",
   "execution_count": 22,
   "metadata": {},
   "outputs": [
    {
     "data": {
      "text/plain": [
       "YearsCodeBin\n",
       "Less Than 5 years     5021\n",
       "5 to 9 years         13955\n",
       "10 to 14 years       10856\n",
       "15 to 19 years        6324\n",
       "20 to 24 years        4700\n",
       "25 to 29 years        2420\n",
       "30 to 34 years        1898\n",
       "35 to 39 years        1441\n",
       "40 to 44 years         842\n",
       "45 to 49 years         188\n",
       "50 years or More       134\n",
       "Name: Respondent, dtype: int64"
      ]
     },
     "execution_count": 22,
     "metadata": {},
     "output_type": "execute_result"
    }
   ],
   "source": [
    "Lrn2cd_df_prof_final = Lrn2cd_df_prof.groupby('YearsCodeBin').count()['Respondent']\n",
    "Lrn2cd_df_prof_final_sort = Lrn2cd_df_prof_final.loc[['Less Than 5 years', '5 to 9 years', '10 to 14 years', '15 to 19 years', '20 to 24 years', '25 to 29 years', '30 to 34 years','35 to 39 years','40 to 44 years','45 to 49 years','50 years or More']]\n",
    "Lrn2cd_df_prof_final_sort"
   ]
  },
  {
   "cell_type": "markdown",
   "metadata": {},
   "source": [
    "#### Plot the graph"
   ]
  },
  {
   "cell_type": "code",
   "execution_count": 23,
   "metadata": {},
   "outputs": [
    {
     "data": {
      "image/png": "[encoded data removed]",
      "text/plain": [
       "<Figure size 432x288 with 1 Axes>"
      ]
     },
     "metadata": {
      "needs_background": "light"
     },
     "output_type": "display_data"
    }
   ],
   "source": [
    "import matplotlib.pyplot as plt\n",
    "\n",
    "width = .4\n",
    "fig , ax = plt.subplots()\n",
    "\n",
    "  \n",
    "ax.bar(Lrn2cd_df_prof_final_sort.index, Lrn2cd_df_prof_final_sort.iloc[0:] ,width)\n",
    "ax.set_ylabel(\"Number of Respondants\") \n",
    "ax.set_xticklabels(Lrn2cd_df_prof_final_sort.index,rotation='vertical') \n",
    "plt.title ( \"Years since learning to Code professionally\")\n",
    "\n",
    "total =  Lrn2cd_df_prof_final_sort.sum()\n",
    "\n",
    "for p in ax.patches:\n",
    "    width = p.get_width()\n",
    "    height = p.get_height()\n",
    "    x, y = p.get_xy()  \n",
    "    ax.annotate('{:.1f}%'.format(100 * height/total) , (x + width/2, y + height*1.02), ha='center') \n",
    "\n",
    "plt.tight_layout()\n",
    "plt.show()"
   ]
  },
  {
   "cell_type": "markdown",
   "metadata": {},
   "source": [
    "#### Q4 : Visualize Number of Years Coding Professionally "
   ]
  },
  {
   "cell_type": "markdown",
   "metadata": {},
   "source": [
    "#### Create a new DF based on \"YearsCodePro\" attribute where value is not NaN"
   ]
  },
  {
   "cell_type": "code",
   "execution_count": 24,
   "metadata": {},
   "outputs": [
    {
     "data": {
      "text/plain": [
       "array(['27', '4', '8', '13', '2', '7', '20', '1', '23', '3', '12', '17',\n",
       "       '18', '10', '14', '29', '6', '28', '9', '15', '11', '16', '25',\n",
       "       'Less than 1 year', '5', '21', '19', '35', '24', '32', '22', '30',\n",
       "       '38', '26', '40', '33', '31', 'More than 50 years', '34', '36',\n",
       "       '39', '37', '41', '45', '47', '42', '46', '50', '43', '44', '48',\n",
       "       '49'], dtype=object)"
      ]
     },
     "execution_count": 24,
     "metadata": {},
     "output_type": "execute_result"
    }
   ],
   "source": [
    "filt = Survey_df['YearsCodePro'].notna()\n",
    "Lrn2cd_df_Pro = Survey_df.loc[filt]\n",
    "Lrn2cd_df_Pro['YearsCodePro'].unique()"
   ]
  },
  {
   "cell_type": "markdown",
   "metadata": {},
   "source": [
    "#### Apply right transformations to create a bucketing of years for \"YearsCodePro\" attribute"
   ]
  },
  {
   "cell_type": "code",
   "execution_count": 25,
   "metadata": {},
   "outputs": [
    {
     "name": "stderr",
     "output_type": "stream",
     "text": [
      "<ipython-input-25-011969828d7c>:1: SettingWithCopyWarning: \n",
      "A value is trying to be set on a copy of a slice from a DataFrame.\n",
      "Try using .loc[row_indexer,col_indexer] = value instead\n",
      "\n",
      "See the caveats in the documentation: https://pandas.pydata.org/pandas-docs/stable/user_guide/indexing.html#returning-a-view-versus-a-copy\n",
      "  Lrn2cd_df_Pro['YearsCodeNew'] = Lrn2cd_df_Pro['YearsCodePro'].replace({'More than 50 years': '51' , 'Less than 1 year': '1'})\n",
      "<ipython-input-25-011969828d7c>:2: SettingWithCopyWarning: \n",
      "A value is trying to be set on a copy of a slice from a DataFrame.\n",
      "Try using .loc[row_indexer,col_indexer] = value instead\n",
      "\n",
      "See the caveats in the documentation: https://pandas.pydata.org/pandas-docs/stable/user_guide/indexing.html#returning-a-view-versus-a-copy\n",
      "  Lrn2cd_df_Pro['YearsCodeNew'] = Lrn2cd_df_Pro['YearsCodeNew'].astype(int)\n",
      "<ipython-input-25-011969828d7c>:4: SettingWithCopyWarning: \n",
      "A value is trying to be set on a copy of a slice from a DataFrame.\n",
      "Try using .loc[row_indexer,col_indexer] = value instead\n",
      "\n",
      "See the caveats in the documentation: https://pandas.pydata.org/pandas-docs/stable/user_guide/indexing.html#returning-a-view-versus-a-copy\n",
      "  Lrn2cd_df_Pro['YearsCodeBin'] = Lrn2cd_df_Pro['YearsCodeNew'].apply(year_of_coding)\n"
     ]
    },
    {
     "data": {
      "text/plain": [
       "array(['25 to 29 years', 'Less Than 5 years', '5 to 9 years',\n",
       "       '10 to 14 years', '20 to 24 years', '15 to 19 years',\n",
       "       '35 to 39 years', '30 to 34 years', '40 to 44 years',\n",
       "       '50 years or More', '45 to 49 years'], dtype=object)"
      ]
     },
     "execution_count": 25,
     "metadata": {},
     "output_type": "execute_result"
    }
   ],
   "source": [
    "Lrn2cd_df_Pro['YearsCodeNew'] = Lrn2cd_df_Pro['YearsCodePro'].replace({'More than 50 years': '51' , 'Less than 1 year': '1'})\n",
    "Lrn2cd_df_Pro['YearsCodeNew'] = Lrn2cd_df_Pro['YearsCodeNew'].astype(int)\n",
    "\n",
    "Lrn2cd_df_Pro['YearsCodeBin'] = Lrn2cd_df_Pro['YearsCodeNew'].apply(year_of_coding)\n",
    "Lrn2cd_df_Pro['YearsCodeBin'].unique()"
   ]
  },
  {
   "cell_type": "markdown",
   "metadata": {},
   "source": [
    "#### Aggregate and Sort DF based on bucketing of years for \"YearsCodePro\" attribute"
   ]
  },
  {
   "cell_type": "code",
   "execution_count": 26,
   "metadata": {},
   "outputs": [
    {
     "data": {
      "text/plain": [
       "YearsCodeBin\n",
       "Less Than 5 years    18337\n",
       "5 to 9 years         12414\n",
       "10 to 14 years        6804\n",
       "15 to 19 years        3536\n",
       "20 to 24 years        2781\n",
       "25 to 29 years        1112\n",
       "30 to 34 years         725\n",
       "35 to 39 years         378\n",
       "40 to 44 years         177\n",
       "45 to 49 years          38\n",
       "50 years or More        47\n",
       "Name: Respondent, dtype: int64"
      ]
     },
     "execution_count": 26,
     "metadata": {},
     "output_type": "execute_result"
    }
   ],
   "source": [
    "Lrn2cd_df_Pro_final = Lrn2cd_df_Pro.groupby('YearsCodeBin').count()['Respondent']\n",
    "Lrn2cd_df_pro_final_sort = Lrn2cd_df_Pro_final.loc[['Less Than 5 years', '5 to 9 years', '10 to 14 years', '15 to 19 years', '20 to 24 years', '25 to 29 years', '30 to 34 years','35 to 39 years','40 to 44 years','45 to 49 years','50 years or More']]\n",
    "Lrn2cd_df_pro_final_sort"
   ]
  },
  {
   "cell_type": "markdown",
   "metadata": {},
   "source": [
    "#### plot the graph"
   ]
  },
  {
   "cell_type": "code",
   "execution_count": 27,
   "metadata": {},
   "outputs": [
    {
     "data": {
      "image/png": "[encoded data removed]",
      "text/plain": [
       "<Figure size 432x288 with 1 Axes>"
      ]
     },
     "metadata": {
      "needs_background": "light"
     },
     "output_type": "display_data"
    }
   ],
   "source": [
    "import matplotlib.pyplot as plt\n",
    "\n",
    "width = .4\n",
    "fig , ax = plt.subplots()\n",
    "\n",
    "  \n",
    "ax.bar(Lrn2cd_df_pro_final_sort.index, Lrn2cd_df_pro_final_sort.iloc[0:] ,width)\n",
    "ax.set_ylabel(\"Number of Respondants\") \n",
    "ax.set_xticklabels(Lrn2cd_df_pro_final_sort.index,rotation='vertical') \n",
    "plt.title ( \"Years since Coding professionally\")\n",
    "\n",
    "total =  Lrn2cd_df_pro_final_sort.sum()\n",
    "\n",
    "for p in ax.patches:\n",
    "    width = p.get_width()\n",
    "    height = p.get_height()\n",
    "    x, y = p.get_xy()  \n",
    "    ax.annotate('{:.1f}%'.format(100 * height/total) , (x + width/2, y + height*1.02), ha='center') \n",
    "\n",
    "plt.tight_layout()\n",
    "plt.show()"
   ]
  },
  {
   "cell_type": "markdown",
   "metadata": {},
   "source": [
    "#### Q5 : Visualize Years of Professional Coding Experience by Developer Type"
   ]
  },
  {
   "cell_type": "markdown",
   "metadata": {},
   "source": [
    "#### Check Unique value of Developer Type"
   ]
  },
  {
   "cell_type": "code",
   "execution_count": 28,
   "metadata": {},
   "outputs": [
    {
     "data": {
      "text/plain": [
       "array(['Developer, desktop or enterprise applications;Developer, full-stack',\n",
       "       'Developer, full-stack;Developer, mobile', nan, ...,\n",
       "       'Designer;Developer, desktop or enterprise applications;Developer, mobile;Product manager;Senior executive/VP;System administrator',\n",
       "       'Academic researcher;Data or business analyst;Data scientist or machine learning specialist;Database administrator;Developer, back-end;Developer, front-end;Developer, full-stack;Product manager;Scientist;System administrator',\n",
       "       'Academic researcher;Data or business analyst;Data scientist or machine learning specialist;Database administrator;Designer;Developer, back-end;Developer, desktop or enterprise applications;Developer, embedded applications or devices;Developer, front-end;Developer, full-stack;Developer, game or graphics;Developer, mobile;Developer, QA or test;DevOps specialist;Senior executive/VP;System administrator'],\n",
       "      dtype=object)"
      ]
     },
     "execution_count": 28,
     "metadata": {},
     "output_type": "execute_result"
    }
   ],
   "source": [
    "Lrn2cd_df_Pro['DevType'].unique()"
   ]
  },
  {
   "cell_type": "markdown",
   "metadata": {},
   "source": [
    "#### Perform Data clean up to eliminate rows having NaN value as part of DevType attribute and create a new DF"
   ]
  },
  {
   "cell_type": "code",
   "execution_count": 29,
   "metadata": {},
   "outputs": [],
   "source": [
    "filt = (Lrn2cd_df_Pro['DevType'].notna())\n",
    "Lrn2cd_df_Pro_DT = Lrn2cd_df_Pro.loc[filt]  "
   ]
  },
  {
   "cell_type": "markdown",
   "metadata": {},
   "source": [
    "#### Find total Exp for each developer type"
   ]
  },
  {
   "cell_type": "code",
   "execution_count": 30,
   "metadata": {},
   "outputs": [
    {
     "data": {
      "text/plain": [
       "{'Developer, desktop or enterprise applications': 118791,\n",
       " 'Developer, full-stack': 220595,\n",
       " 'Developer, mobile': 72554,\n",
       " 'Designer': 45225,\n",
       " 'Developer, front-end': 137989,\n",
       " 'Developer, back-end': 227715,\n",
       " 'Developer, QA or test': 32936,\n",
       " 'DevOps specialist': 60496,\n",
       " 'Developer, game or graphics': 21968,\n",
       " 'Database administrator': 57422,\n",
       " 'Developer, embedded applications or devices': 48118,\n",
       " 'Engineer, data': 31466,\n",
       " 'Educator': 27145,\n",
       " 'System administrator': 51899,\n",
       " 'Engineering manager': 35670,\n",
       " 'Product manager': 27111,\n",
       " 'Data or business analyst': 36094,\n",
       " 'Academic researcher': 25169,\n",
       " 'Data scientist or machine learning specialist': 29156,\n",
       " 'Scientist': 18358,\n",
       " 'Senior executive/VP': 20506,\n",
       " 'Engineer, site reliability': 19171,\n",
       " 'Marketing or sales professional': 5420}"
      ]
     },
     "execution_count": 30,
     "metadata": {},
     "output_type": "execute_result"
    }
   ],
   "source": [
    "DevType_Df =  Lrn2cd_df_Pro_DT[['DevType','YearsCodeNew']]  \n",
    "\n",
    "devType_exp =  {}\n",
    "\n",
    "for i in  DevType_Df.itertuples() :\n",
    "     \n",
    "     for j in i[1].split(';'):\n",
    "         if j in devType_exp.keys():\n",
    "              experience = devType_exp[j]\n",
    "              experience = experience + i[2]\n",
    "              devType_exp[j] = experience\n",
    "         else:\n",
    "              devType_exp[j] = i[2]\n",
    "                \n",
    "devType_exp"
   ]
  },
  {
   "cell_type": "markdown",
   "metadata": {},
   "source": [
    "#### Find total Number of Respondents for each developer type"
   ]
  },
  {
   "cell_type": "code",
   "execution_count": 31,
   "metadata": {},
   "outputs": [
    {
     "data": {
      "text/plain": [
       "Counter({'Developer, desktop or enterprise applications': 11006,\n",
       "         'Developer, full-stack': 25387,\n",
       "         'Developer, mobile': 8611,\n",
       "         'Designer': 4597,\n",
       "         'Developer, front-end': 16817,\n",
       "         'Developer, back-end': 25426,\n",
       "         'Developer, QA or test': 3667,\n",
       "         'DevOps specialist': 5756,\n",
       "         'Developer, game or graphics': 2369,\n",
       "         'Database administrator': 5286,\n",
       "         'Developer, embedded applications or devices': 4410,\n",
       "         'Engineer, data': 3439,\n",
       "         'Educator': 2586,\n",
       "         'System administrator': 4713,\n",
       "         'Engineering manager': 2589,\n",
       "         'Product manager': 2301,\n",
       "         'Data or business analyst': 3602,\n",
       "         'Academic researcher': 3077,\n",
       "         'Data scientist or machine learning specialist': 3551,\n",
       "         'Scientist': 1843,\n",
       "         'Senior executive/VP': 1242,\n",
       "         'Engineer, site reliability': 1822,\n",
       "         'Marketing or sales professional': 518})"
      ]
     },
     "execution_count": 31,
     "metadata": {},
     "output_type": "execute_result"
    }
   ],
   "source": [
    "from collections import Counter\n",
    "\n",
    "DevTypeCount = Counter()\n",
    "\n",
    "for j in Lrn2cd_df_Pro_DT['DevType'] :\n",
    "    DevTypeCount.update(j.split(';'))\n",
    "\n",
    "DevTypeCount"
   ]
  },
  {
   "cell_type": "markdown",
   "metadata": {},
   "source": [
    "#### Find Avg Experience for each Developer Type"
   ]
  },
  {
   "cell_type": "code",
   "execution_count": 32,
   "metadata": {},
   "outputs": [
    {
     "data": {
      "text/plain": [
       "{'Developer, desktop or enterprise applications': 10.8,\n",
       " 'Developer, full-stack': 8.7,\n",
       " 'Developer, mobile': 8.4,\n",
       " 'Designer': 9.8,\n",
       " 'Developer, front-end': 8.2,\n",
       " 'Developer, back-end': 9.0,\n",
       " 'Developer, QA or test': 9.0,\n",
       " 'DevOps specialist': 10.5,\n",
       " 'Developer, game or graphics': 9.3,\n",
       " 'Database administrator': 10.9,\n",
       " 'Developer, embedded applications or devices': 10.9,\n",
       " 'Engineer, data': 9.1,\n",
       " 'Educator': 10.5,\n",
       " 'System administrator': 11.0,\n",
       " 'Engineering manager': 13.8,\n",
       " 'Product manager': 11.8,\n",
       " 'Data or business analyst': 10.0,\n",
       " 'Academic researcher': 8.2,\n",
       " 'Data scientist or machine learning specialist': 8.2,\n",
       " 'Scientist': 10.0,\n",
       " 'Senior executive/VP': 16.5,\n",
       " 'Engineer, site reliability': 10.5,\n",
       " 'Marketing or sales professional': 10.5}"
      ]
     },
     "execution_count": 32,
     "metadata": {},
     "output_type": "execute_result"
    }
   ],
   "source": [
    "devType_Avgexp = {}\n",
    "Avg_exp = 0\n",
    "\n",
    "for j in DevTypeCount :\n",
    "    \n",
    "    Avg_exp = round((devType_exp[j]  / DevTypeCount[j]),1)\n",
    "    devType_Avgexp[j] = Avg_exp\n",
    "\n",
    "devType_Avgexp  "
   ]
  },
  {
   "cell_type": "markdown",
   "metadata": {},
   "source": [
    "#### Sort the dictionary in Decending order of exp"
   ]
  },
  {
   "cell_type": "code",
   "execution_count": 33,
   "metadata": {},
   "outputs": [
    {
     "data": {
      "text/plain": [
       "[('Developer, front-end', 8.2),\n",
       " ('Academic researcher', 8.2),\n",
       " ('Data scientist or machine learning specialist', 8.2),\n",
       " ('Developer, mobile', 8.4),\n",
       " ('Developer, full-stack', 8.7),\n",
       " ('Developer, back-end', 9.0),\n",
       " ('Developer, QA or test', 9.0),\n",
       " ('Engineer, data', 9.1),\n",
       " ('Developer, game or graphics', 9.3),\n",
       " ('Designer', 9.8),\n",
       " ('Data or business analyst', 10.0),\n",
       " ('Scientist', 10.0),\n",
       " ('DevOps specialist', 10.5),\n",
       " ('Educator', 10.5),\n",
       " ('Engineer, site reliability', 10.5),\n",
       " ('Marketing or sales professional', 10.5),\n",
       " ('Developer, desktop or enterprise applications', 10.8),\n",
       " ('Database administrator', 10.9),\n",
       " ('Developer, embedded applications or devices', 10.9),\n",
       " ('System administrator', 11.0),\n",
       " ('Product manager', 11.8),\n",
       " ('Engineering manager', 13.8),\n",
       " ('Senior executive/VP', 16.5)]"
      ]
     },
     "execution_count": 33,
     "metadata": {},
     "output_type": "execute_result"
    }
   ],
   "source": [
    "Sorted_devType_Avgexp = sorted(devType_Avgexp.items(), key=lambda x: x[1], reverse=False)\n",
    "Sorted_devType_Avgexp"
   ]
  },
  {
   "cell_type": "markdown",
   "metadata": {},
   "source": [
    "#### Plot the graph"
   ]
  },
  {
   "cell_type": "code",
   "execution_count": 34,
   "metadata": {
    "scrolled": true
   },
   "outputs": [
    {
     "data": {
      "image/png": "[encoded data removed]",
      "text/plain": [
       "<Figure size 432x288 with 1 Axes>"
      ]
     },
     "metadata": {},
     "output_type": "display_data"
    }
   ],
   "source": [
    "import matplotlib.pyplot as plt\n",
    "\n",
    "plt.style.use(\"ggplot\")\n",
    "\n",
    "Dev_type = []\n",
    "Avg_exp =[]\n",
    "\n",
    "for i in Sorted_devType_Avgexp:\n",
    "    Dev_type.append(i[0])\n",
    "    Avg_exp.append(i[1])\n",
    "\n",
    "fig, ax = plt.subplots()\n",
    "ax = plt.barh(Dev_type,Avg_exp)\n",
    "plt.ylabel(\"Developer Type\") \n",
    "plt.title(\"Years of Professional Coding Experience by Developer Type\" , fontsize = 15)\n",
    "\n",
    "\n",
    "for p in ax.patches:\n",
    "        avg_exp = p.get_width()\n",
    "        x = p.get_x() + p.get_width() + 0.02\n",
    "        y = p.get_y() + p.get_height()/2 \n",
    "        plt.text(x, y,avg_exp, \n",
    "             fontsize = 10, fontweight ='bold', \n",
    "             color ='grey')\n",
    "        \n",
    "plt.show()"
   ]
  },
  {
   "cell_type": "markdown",
   "metadata": {},
   "source": [
    "#### Q6 : Visualize Most Loved, Dreaded, and Wanted Languages"
   ]
  },
  {
   "cell_type": "markdown",
   "metadata": {},
   "source": [
    "##### Filter the records that has NaN as part of LanguageWorkedWith attribute"
   ]
  },
  {
   "cell_type": "code",
   "execution_count": 94,
   "metadata": {},
   "outputs": [],
   "source": [
    "filt = Survey_df['LanguageWorkedWith'].notna()\n",
    "Lang_df = Survey_df.loc[filt]"
   ]
  },
  {
   "cell_type": "markdown",
   "metadata": {},
   "source": [
    "#### Create a Dict for all the languages that Respondents are working on currently and count the Respondents against each language"
   ]
  },
  {
   "cell_type": "code",
   "execution_count": 95,
   "metadata": {},
   "outputs": [
    {
     "data": {
      "text/plain": [
       "Counter({'C#': 18041,\n",
       "         'HTML/CSS': 36181,\n",
       "         'JavaScript': 38822,\n",
       "         'Swift': 3397,\n",
       "         'Objective-C': 2340,\n",
       "         'Python': 25287,\n",
       "         'Ruby': 4046,\n",
       "         'SQL': 31413,\n",
       "         'Java': 23074,\n",
       "         'PHP': 15007,\n",
       "         'C': 12487,\n",
       "         'TypeScript': 14578,\n",
       "         'Bash/Shell/PowerShell': 18980,\n",
       "         'Kotlin': 4468,\n",
       "         'R': 3288,\n",
       "         'VBA': 3499,\n",
       "         'Perl': 1796,\n",
       "         'Scala': 2052,\n",
       "         'C++': 13707,\n",
       "         'Go': 5038,\n",
       "         'Haskell': 1222,\n",
       "         'Rust': 2929,\n",
       "         'Dart': 2280,\n",
       "         'Julia': 519,\n",
       "         'Assembly': 3553})"
      ]
     },
     "execution_count": 95,
     "metadata": {},
     "output_type": "execute_result"
    }
   ],
   "source": [
    "from collections import Counter\n",
    "\n",
    "Lang_count = Counter()\n",
    "\n",
    "for j in Lang_df['LanguageWorkedWith'] :\n",
    "    Lang_count.update(j.split(';'))\n",
    "\n",
    "Lang_count"
   ]
  },
  {
   "cell_type": "markdown",
   "metadata": {},
   "source": [
    "#### Create a Dict for all the languages that Respondents are working on currently and shows desire to work next year as well. Also count the Respondents against each language"
   ]
  },
  {
   "cell_type": "markdown",
   "metadata": {},
   "source": [
    "#### Approcah 1 : using contains failed the test case as C# and C , Java & java script is taking consolidated count due to contains.\n",
    "#### If tried handling it using de-limiter append logic in contains, its failing as well if a Language is in the end of concatenation"
   ]
  },
  {
   "cell_type": "code",
   "execution_count": 103,
   "metadata": {},
   "outputs": [
    {
     "data": {
      "text/plain": [
       "{'C#': 10762,\n",
       " 'HTML/CSS': 19356,\n",
       " 'JavaScript': 22639,\n",
       " 'Swift': 2021,\n",
       " 'Objective-C': 547,\n",
       " 'Python': 16858,\n",
       " 'Ruby': 1734,\n",
       " 'SQL': 17778,\n",
       " 'Java': 28883,\n",
       " 'PHP': 5591,\n",
       " 'C': 31706,\n",
       " 'TypeScript': 9786,\n",
       " 'Bash/Shell/PowerShell': 10199,\n",
       " 'Kotlin': 2811,\n",
       " 'R': 6240,\n",
       " 'VBA': 687,\n",
       " 'Perl': 514,\n",
       " 'Scala': 1092,\n",
       " 'C++': 5954,\n",
       " 'Go': 3137,\n",
       " 'Haskell': 632,\n",
       " 'Rust': 2523,\n",
       " 'Dart': 1417,\n",
       " 'Julia': 323,\n",
       " 'Assembly': 1043}"
      ]
     },
     "execution_count": 103,
     "metadata": {},
     "output_type": "execute_result"
    }
   ],
   "source": [
    "Lang_count_next = {} \n",
    "\n",
    "for key in Lang_count.keys():\n",
    "      \n",
    "      filt = (Survey_df['LanguageWorkedWith'].str.contains(key,regex=False) & Survey_df['LanguageDesireNextYear'].str.contains(key,regex=False))\n",
    "      Lang_count_next[key] =  Survey_df.loc[filt]['LanguageWorkedWith'].count() \n",
    "\n",
    "Lang_count_next"
   ]
  },
  {
   "cell_type": "markdown",
   "metadata": {},
   "source": [
    "#### Approach 2  :  fetch Most loved language by spliting each attribute \"LanguageWorkedWith\" &  \"LanguageDesireNextYear\" into an array per respondent and validate if  a given language is present in each array to have exact match"
   ]
  },
  {
   "cell_type": "code",
   "execution_count": 120,
   "metadata": {},
   "outputs": [
    {
     "data": {
      "text/plain": [
       "{'C#': 10762,\n",
       " 'HTML/CSS': 19356,\n",
       " 'JavaScript': 22639,\n",
       " 'Swift': 2021,\n",
       " 'Objective-C': 547,\n",
       " 'Python': 16858,\n",
       " 'Ruby': 1734,\n",
       " 'SQL': 17778,\n",
       " 'Java': 10177,\n",
       " 'PHP': 5591,\n",
       " 'C': 4130,\n",
       " 'TypeScript': 9786,\n",
       " 'Bash/Shell/PowerShell': 10199,\n",
       " 'Kotlin': 2811,\n",
       " 'R': 1462,\n",
       " 'VBA': 687,\n",
       " 'Perl': 514,\n",
       " 'Scala': 1092,\n",
       " 'C++': 5954,\n",
       " 'Go': 3137,\n",
       " 'Haskell': 632,\n",
       " 'Rust': 2523,\n",
       " 'Dart': 1417,\n",
       " 'Julia': 323,\n",
       " 'Assembly': 1043}"
      ]
     },
     "execution_count": 120,
     "metadata": {},
     "output_type": "execute_result"
    }
   ],
   "source": [
    "import numpy as np\n",
    "\n",
    "Lang_count_next = {} \n",
    "Lang_loved_df =  Lang_df[['LanguageWorkedWith','LanguageDesireNextYear']]  \n",
    "filt = Lang_loved_df['LanguageDesireNextYear'].notna()\n",
    "Lang_loved_df = Lang_loved_df.loc[filt]\n",
    "\n",
    "for key in Lang_count.keys():\n",
    "        \n",
    "        count = 0 \n",
    "        for i in  Lang_loved_df.itertuples() :\n",
    "             \n",
    "             LanguageWorkedWith = []\n",
    "             LanguageDesireNextYear=[]\n",
    " \n",
    "             for j in i[1].split(';'):\n",
    "                 \n",
    "                 LanguageWorkedWith.append(j)\n",
    "                \n",
    "              \n",
    "             for k in i[2].split(';'):\n",
    "                        \n",
    "                 LanguageDesireNextYear.append(k)\n",
    "            \n",
    "             if (key in LanguageWorkedWith) and (key in LanguageDesireNextYear):\n",
    "                \n",
    "                 count = count + 1\n",
    "         \n",
    "        Lang_count_next[key] = count\n",
    "\n",
    "\n",
    "Lang_count_next"
   ]
  },
  {
   "cell_type": "markdown",
   "metadata": {},
   "source": [
    "#### Calculate Loved pct based on Lang_count & Lang_count_next Dict"
   ]
  },
  {
   "cell_type": "code",
   "execution_count": 126,
   "metadata": {},
   "outputs": [
    {
     "data": {
      "text/plain": [
       "{'C#': 59.7,\n",
       " 'HTML/CSS': 53.5,\n",
       " 'JavaScript': 58.3,\n",
       " 'Swift': 59.5,\n",
       " 'Objective-C': 23.4,\n",
       " 'Python': 66.7,\n",
       " 'Ruby': 42.9,\n",
       " 'SQL': 56.6,\n",
       " 'Java': 44.1,\n",
       " 'PHP': 37.3,\n",
       " 'C': 33.1,\n",
       " 'TypeScript': 67.1,\n",
       " 'Bash/Shell/PowerShell': 53.7,\n",
       " 'Kotlin': 62.9,\n",
       " 'R': 44.5,\n",
       " 'VBA': 19.6,\n",
       " 'Perl': 28.6,\n",
       " 'Scala': 53.2,\n",
       " 'C++': 43.4,\n",
       " 'Go': 62.3,\n",
       " 'Haskell': 51.7,\n",
       " 'Rust': 86.1,\n",
       " 'Dart': 62.1,\n",
       " 'Julia': 62.2,\n",
       " 'Assembly': 29.4}"
      ]
     },
     "execution_count": 126,
     "metadata": {},
     "output_type": "execute_result"
    }
   ],
   "source": [
    "Most_loved_language = {}\n",
    "Loved_pct = 0\n",
    "\n",
    "for j in Lang_count :\n",
    "    \n",
    "    Loved_pct = round(( (Lang_count_next[j] ) / Lang_count[j]),3)\n",
    "    Most_loved_language[j] = round(Loved_pct * 100, 1)\n",
    "\n",
    "Most_loved_language  "
   ]
  },
  {
   "cell_type": "code",
   "execution_count": 127,
   "metadata": {},
   "outputs": [
    {
     "data": {
      "text/plain": [
       "[('VBA', 19.6),\n",
       " ('Objective-C', 23.4),\n",
       " ('Perl', 28.6),\n",
       " ('Assembly', 29.4),\n",
       " ('C', 33.1),\n",
       " ('PHP', 37.3),\n",
       " ('Ruby', 42.9),\n",
       " ('C++', 43.4),\n",
       " ('Java', 44.1),\n",
       " ('R', 44.5),\n",
       " ('Haskell', 51.7),\n",
       " ('Scala', 53.2),\n",
       " ('HTML/CSS', 53.5),\n",
       " ('Bash/Shell/PowerShell', 53.7),\n",
       " ('SQL', 56.6),\n",
       " ('JavaScript', 58.3),\n",
       " ('Swift', 59.5),\n",
       " ('C#', 59.7),\n",
       " ('Dart', 62.1),\n",
       " ('Julia', 62.2),\n",
       " ('Go', 62.3),\n",
       " ('Kotlin', 62.9),\n",
       " ('Python', 66.7),\n",
       " ('TypeScript', 67.1),\n",
       " ('Rust', 86.1)]"
      ]
     },
     "execution_count": 127,
     "metadata": {},
     "output_type": "execute_result"
    }
   ],
   "source": [
    "Most_loved_language_sorted = sorted(Most_loved_language.items(), key=lambda x: x[1], reverse=False)\n",
    "Most_loved_language_sorted "
   ]
  },
  {
   "cell_type": "markdown",
   "metadata": {},
   "source": [
    "#### Plot the graph"
   ]
  },
  {
   "cell_type": "code",
   "execution_count": 169,
   "metadata": {},
   "outputs": [
    {
     "data": {
      "image/png": "[encoded data removed]",
      "text/plain": [
       "<Figure size 432x288 with 1 Axes>"
      ]
     },
     "metadata": {},
     "output_type": "display_data"
    }
   ],
   "source": [
    "import matplotlib.pyplot as plt\n",
    "\n",
    "plt.style.use(\"ggplot\")\n",
    "\n",
    "Lang_name = []\n",
    "Loved_pct =[]\n",
    "width = 0.4\n",
    "\n",
    "for i in Most_loved_language_sorted:\n",
    "    Lang_name.append(i[0])\n",
    "    Loved_pct.append(i[1])\n",
    "\n",
    "fig, ax = plt.subplots()\n",
    "ax = plt.barh(range( len(Lang_name) ),Loved_pct,width,align='edge' )\n",
    "plt.ylabel(\"Language Name\") \n",
    "plt.yticks(range(len(Lang_name) ), Lang_name)\n",
    "plt.title(\"Most Loved Programming Language\" , fontsize = 10)\n",
    "\n",
    "for p in ax.patches:\n",
    "        pct = p.get_width()\n",
    "        x = p.get_x() + p.get_width() + 0.02\n",
    "        y = p.get_y() + p.get_height()/2 \n",
    "        plt.text(x, y,'{:.1f}%'.format(pct), \n",
    "             fontsize = 8,  \n",
    "             color ='black')\n",
    "\n",
    "plt.tight_layout()\n",
    "plt.show()"
   ]
  },
  {
   "cell_type": "code",
   "execution_count": null,
   "metadata": {},
   "outputs": [],
   "source": []
  }
 ],
 "metadata": {
  "kernelspec": {
   "display_name": "Python 3",
   "language": "python",
   "name": "python3"
  },
  "language_info": {
   "codemirror_mode": {
    "name": "ipython",
    "version": 3
   },
   "file_extension": ".py",
   "mimetype": "text/x-python",
   "name": "python",
   "nbconvert_exporter": "python",
   "pygments_lexer": "ipython3",
   "version": "3.8.3"
  }
 },
 "nbformat": 4,
 "nbformat_minor": 4
}
