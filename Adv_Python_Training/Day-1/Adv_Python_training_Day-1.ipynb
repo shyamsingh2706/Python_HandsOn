{
 "cells": [
  {
   "cell_type": "markdown",
   "metadata": {},
   "source": [
    "#### problem -1 \n",
    "\n",
    "Bank User has name and account. There are two types of Users\n",
    "Normal and privileged user . There are two types of privileged\n",
    "users, Gold and Silver. Gold has cashback of 5% and Silver has \n",
    "cashback of 3% of expenditure when they spend any cash "
   ]
  },
  {
   "cell_type": "code",
   "execution_count": 1,
   "metadata": {},
   "outputs": [],
   "source": [
    "class NotEnoughBalance(Exception):\n",
    "    pass\n",
    "\n",
    "class BankAccount :\n",
    "    \n",
    "    def __init__(self,initAmount):\n",
    "        self.amount = initAmount\n",
    "    \n",
    "    def __str__(self):\n",
    "        return (f\"BankAccount amount is {self.amount}\")\n",
    "    \n",
    "    def transaction(self,amount):\n",
    "        \n",
    "        if self.amount + amount < 0 :\n",
    "            raise NotEnoughBalance(\"Not Possible\")\n",
    "        self.amount = self.amount + amount\n",
    "        \n"
   ]
  },
  {
   "cell_type": "code",
   "execution_count": 2,
   "metadata": {},
   "outputs": [],
   "source": [
    "from abc import ABCMeta, abstractmethod\n",
    "\n",
    "class BankUser(metaclass = ABCMeta):\n",
    "    \n",
    "    how_many_users = {'TotalUsers': 0}    # class variable, BankUser.how_many_users\n",
    "    \n",
    "    def __init__(self,name,initAmount):\n",
    "        self.name = name ## Instance Variable\n",
    "        self.account= BankAccount(initAmount)\n",
    "        self.update_user_types()\n",
    "    \n",
    "    @property ## getter property\n",
    "    def balance(self):\n",
    "        return self.account.amount\n",
    "    \n",
    "    @balance.setter ## Setter Method\n",
    "    def balance(self,amount):\n",
    "        raise NotImplementedError(\"Setting can only be done via transact method\")\n",
    "        \n",
    "    def __str__(self):\n",
    "        return f\"{self.getUserType()} {self.name} , {self.balance}\"\n",
    "    \n",
    "    @abstractmethod\n",
    "    def getUserType(self):\n",
    "        raise NotImplementedError(\"Not Implemented\")\n",
    "    \n",
    "    @classmethod\n",
    "    def howMany(cls):  ## BankUser.howMany()\n",
    "        return cls.how_many_users\n",
    "    \n",
    "    def update_user_types(self):\n",
    "        t = self.getUserType()\n",
    "        if t in BankUser.how_many_users:\n",
    "            BankUser.how_many_users[t] += 1\n",
    "        else:\n",
    "            BankUser.how_many_users[t] = 1\n",
    "            BankUser.how_many_users['TotalUsers'] += 1\n",
    "    \n",
    "    @abstractmethod\n",
    "    def getCashbackPercentage(self):\n",
    "        return 0\n",
    "    \n",
    "    def transact(self,amount):\n",
    "        try:\n",
    "            self.account.transaction(amount)\n",
    "            if amount < 0 :\n",
    "                cashback = self.getCashbackPercentage() * abs(amount)\n",
    "                self.account.transaction(cashback)\n",
    "        except NotEnoughBalance as ex:\n",
    "            print( str(ex) , \" , Name : \", self.name , \" , Amount : \", amount)"
   ]
  },
  {
   "cell_type": "code",
   "execution_count": 3,
   "metadata": {},
   "outputs": [],
   "source": [
    "class NormalUser(BankUser):\n",
    "    def getCashbackPercentage(self):\n",
    "        return super().getCashbackPercentage()          \n",
    "    \n",
    "    def getUserType(self):\n",
    "        return \"NormalUser\"   \n",
    "        \n",
    "class SilverUser(BankUser):\n",
    "    def getCashbackPercentage(self):\n",
    "        return 0.03          \n",
    "    \n",
    "    def getUserType(self):\n",
    "        return \"SilverUser\"   \n",
    "    \n",
    "class GoldUser(BankUser):\n",
    "    def getCashbackPercentage(self):\n",
    "        return 0.05   \n",
    "    \n",
    "    def getUserType(self):\n",
    "        return \"GoldUser\"   "
   ]
  },
  {
   "cell_type": "code",
   "execution_count": 4,
   "metadata": {},
   "outputs": [
    {
     "name": "stdout",
     "output_type": "stream",
     "text": [
      "Not Possible  , Name :  Gold  , Amount :  -400\n",
      "GoldUser Gold , 710.0  , balance is : 710.0\n"
     ]
    },
    {
     "ename": "NotImplementedError",
     "evalue": "Setting can only be done via transact method",
     "output_type": "error",
     "traceback": [
      "\u001b[1;31m---------------------------------------------------------------------------\u001b[0m",
      "\u001b[1;31mNotImplementedError\u001b[0m                       Traceback (most recent call last)",
      "\u001b[1;32m<ipython-input-4-49f78b378b20>\u001b[0m in \u001b[0;36m<module>\u001b[1;34m\u001b[0m\n\u001b[0;32m      8\u001b[0m             \u001b[0mu\u001b[0m\u001b[1;33m.\u001b[0m\u001b[0mtransact\u001b[0m\u001b[1;33m(\u001b[0m\u001b[0mam\u001b[0m\u001b[1;33m)\u001b[0m\u001b[1;33m\u001b[0m\u001b[1;33m\u001b[0m\u001b[0m\n\u001b[0;32m      9\u001b[0m         \u001b[0mprint\u001b[0m\u001b[1;33m(\u001b[0m\u001b[0mu\u001b[0m\u001b[1;33m,\u001b[0m \u001b[1;34m\" , balance is :\"\u001b[0m  \u001b[1;33m,\u001b[0m \u001b[0mu\u001b[0m\u001b[1;33m.\u001b[0m\u001b[0mbalance\u001b[0m\u001b[1;33m)\u001b[0m\u001b[1;33m\u001b[0m\u001b[1;33m\u001b[0m\u001b[0m\n\u001b[1;32m---> 10\u001b[1;33m         \u001b[0mu\u001b[0m\u001b[1;33m.\u001b[0m\u001b[0mbalance\u001b[0m\u001b[1;33m=\u001b[0m\u001b[1;36m1000\u001b[0m\u001b[1;33m\u001b[0m\u001b[1;33m\u001b[0m\u001b[0m\n\u001b[0m",
      "\u001b[1;32m<ipython-input-2-a3490dc2e317>\u001b[0m in \u001b[0;36mbalance\u001b[1;34m(self, amount)\u001b[0m\n\u001b[0;32m     16\u001b[0m     \u001b[1;33m@\u001b[0m\u001b[0mbalance\u001b[0m\u001b[1;33m.\u001b[0m\u001b[0msetter\u001b[0m \u001b[1;31m## Setter Method\u001b[0m\u001b[1;33m\u001b[0m\u001b[1;33m\u001b[0m\u001b[0m\n\u001b[0;32m     17\u001b[0m     \u001b[1;32mdef\u001b[0m \u001b[0mbalance\u001b[0m\u001b[1;33m(\u001b[0m\u001b[0mself\u001b[0m\u001b[1;33m,\u001b[0m\u001b[0mamount\u001b[0m\u001b[1;33m)\u001b[0m\u001b[1;33m:\u001b[0m\u001b[1;33m\u001b[0m\u001b[1;33m\u001b[0m\u001b[0m\n\u001b[1;32m---> 18\u001b[1;33m         \u001b[1;32mraise\u001b[0m \u001b[0mNotImplementedError\u001b[0m\u001b[1;33m(\u001b[0m\u001b[1;34m\"Setting can only be done via transact method\"\u001b[0m\u001b[1;33m)\u001b[0m\u001b[1;33m\u001b[0m\u001b[1;33m\u001b[0m\u001b[0m\n\u001b[0m\u001b[0;32m     19\u001b[0m \u001b[1;33m\u001b[0m\u001b[0m\n\u001b[0;32m     20\u001b[0m     \u001b[1;32mdef\u001b[0m \u001b[0m__str__\u001b[0m\u001b[1;33m(\u001b[0m\u001b[0mself\u001b[0m\u001b[1;33m)\u001b[0m\u001b[1;33m:\u001b[0m\u001b[1;33m\u001b[0m\u001b[1;33m\u001b[0m\u001b[0m\n",
      "\u001b[1;31mNotImplementedError\u001b[0m: Setting can only be done via transact method"
     ]
    }
   ],
   "source": [
    "if __name__ == '__main__':\n",
    "    users = [GoldUser(\"Gold\", 100),\n",
    "             SilverUser(\"Silver\", 100),\n",
    "             NormalUser(\"Normal\", 100)]\n",
    "    amounts = [100, -200, 300, -400, 400]\n",
    "    for u in users:\n",
    "        for am in amounts:\n",
    "            u.transact(am)\n",
    "        print(u, \" , balance is :\"  , u.balance)\n",
    "        u.balance=1000  ### testing setter method exception if this can not be set directly."
   ]
  },
  {
   "cell_type": "code",
   "execution_count": 6,
   "metadata": {},
   "outputs": [
    {
     "name": "stdout",
     "output_type": "stream",
     "text": [
      "Not Possible  , Name :  Gold  , Amount :  -400\n",
      "GoldUser Gold , 710.0  , balance is : 710.0\n",
      "Not Possible  , Name :  Silver  , Amount :  -400\n",
      "SilverUser Silver , 706.0  , balance is : 706.0\n",
      "Not Possible  , Name :  Normal  , Amount :  -400\n",
      "NormalUser Normal , 700  , balance is : 700\n"
     ]
    }
   ],
   "source": [
    "if __name__ == '__main__':\n",
    "    users = [GoldUser(\"Gold\", 100),\n",
    "             SilverUser(\"Silver\", 100),\n",
    "             NormalUser(\"Normal\", 100)]\n",
    "    amounts = [100, -200, 300, -400, 400]\n",
    "    for u in users:\n",
    "        for am in amounts:\n",
    "            u.transact(am)\n",
    "        print(u, \" , balance is :\"  , u.balance) "
   ]
  },
  {
   "cell_type": "code",
   "execution_count": 7,
   "metadata": {},
   "outputs": [
    {
     "ename": "TypeError",
     "evalue": "Can't instantiate abstract class BankUser with abstract methods getCashbackPercentage, getUserType",
     "output_type": "error",
     "traceback": [
      "\u001b[1;31m---------------------------------------------------------------------------\u001b[0m",
      "\u001b[1;31mTypeError\u001b[0m                                 Traceback (most recent call last)",
      "\u001b[1;32m<ipython-input-7-0c53db54e9e2>\u001b[0m in \u001b[0;36m<module>\u001b[1;34m\u001b[0m\n\u001b[1;32m----> 1\u001b[1;33m \u001b[0mu\u001b[0m \u001b[1;33m=\u001b[0m \u001b[0mBankUser\u001b[0m\u001b[1;33m(\u001b[0m\u001b[1;34m\"some\"\u001b[0m\u001b[1;33m,\u001b[0m\u001b[1;36m100\u001b[0m\u001b[1;33m)\u001b[0m \u001b[1;31m### Restricting user to be intantiated using Normal,Silver and Gold user class only\u001b[0m\u001b[1;33m\u001b[0m\u001b[1;33m\u001b[0m\u001b[0m\n\u001b[0m",
      "\u001b[1;31mTypeError\u001b[0m: Can't instantiate abstract class BankUser with abstract methods getCashbackPercentage, getUserType"
     ]
    }
   ],
   "source": [
    "u = BankUser(\"some\",100) ### Restricting user to be intantiated using Normal,Silver and Gold user class only"
   ]
  },
  {
   "cell_type": "code",
   "execution_count": 8,
   "metadata": {},
   "outputs": [
    {
     "data": {
      "text/plain": [
       "{'TotalUsers': 3, 'GoldUser': 2, 'SilverUser': 2, 'NormalUser': 2}"
      ]
     },
     "execution_count": 8,
     "metadata": {},
     "output_type": "execute_result"
    }
   ],
   "source": [
    "BankUser.howMany()"
   ]
  },
  {
   "cell_type": "code",
   "execution_count": null,
   "metadata": {},
   "outputs": [],
   "source": []
  }
 ],
 "metadata": {
  "kernelspec": {
   "display_name": "Python 3",
   "language": "python",
   "name": "python3"
  },
  "language_info": {
   "codemirror_mode": {
    "name": "ipython",
    "version": 3
   },
   "file_extension": ".py",
   "mimetype": "text/x-python",
   "name": "python",
   "nbconvert_exporter": "python",
   "pygments_lexer": "ipython3",
   "version": "3.8.3"
  }
 },
 "nbformat": 4,
 "nbformat_minor": 4
}
